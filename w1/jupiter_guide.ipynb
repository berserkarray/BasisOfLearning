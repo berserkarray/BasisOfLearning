{
 "cells": [
  {
   "cell_type": "markdown",
   "metadata": {},
   "source": [
    "after installing anaconda open anaconda navigator and then jupyter\n",
    "notebook\n",
    "\n",
    "to create a new file in the notebook click on the “new”,and then select\n",
    "the type of the file you want to create.\n",
    "\n",
    "if you create a python3 kernel notebook then you need to rename it by\n",
    "clicking onthe topmost point right of the jupyter\n",
    "\n",
    "type the commands in the IN box and then for execution click on “run”\n",
    "\n",
    "the file by default get saved in cdrive . so we have created the file\n",
    "now code for eg. print(“BcS OP”) after the completion of the file you\n",
    "need to save\n",
    "\n",
    "and we completed the jupyter setup"
   ]
  }
 ],
 "nbformat": 4,
 "nbformat_minor": 5,
 "metadata": {}
}
