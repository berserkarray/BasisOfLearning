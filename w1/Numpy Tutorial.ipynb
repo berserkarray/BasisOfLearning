{
 "cells": [
  {
   "cell_type": "markdown",
   "id": "e986db8c",
   "metadata": {},
   "source": [
    "<h1>Numpy</h1><br>\n",
    "NumPy (Numerical Python) is an open source Python library. It contains multidimensional array and matrix data structures. It provides ndarray, a homogeneous n-dimensional array object, with methods to efficiently operate on it. NumPy can be used to perform a wide variety of mathematical operations on arrays"
   ]
  },
  {
   "cell_type": "markdown",
   "id": "81721f02",
   "metadata": {},
   "source": [
    "The first step is to import the <b>Numpy</b> library to the current jupyter notebook."
   ]
  },
  {
   "cell_type": "code",
   "execution_count": 2,
   "id": "bcd76cf5",
   "metadata": {},
   "outputs": [],
   "source": [
    "import numpy as np #Shorthand notation given to facilitate easier further usage."
   ]
  },
  {
   "cell_type": "markdown",
   "id": "8f043d03",
   "metadata": {},
   "source": [
    "<h2>Array</h2>"
   ]
  },
  {
   "cell_type": "markdown",
   "id": "99c2f9a2",
   "metadata": {},
   "source": [
    "A numpy array is a data structure which is similar to python lists, and it has a grid of elements that can be accesed in various ways.<br>\n",
    "An array object in NumPy is called <b>ndarray</b>."
   ]
  },
  {
   "cell_type": "code",
   "execution_count": 14,
   "id": "613fe783",
   "metadata": {},
   "outputs": [
    {
     "name": "stdout",
     "output_type": "stream",
     "text": [
      "<class 'numpy.ndarray'>\n",
      "[1 2 3 4]\n",
      "[[ 1  2  3  4]\n",
      " [ 5  6  7  8]\n",
      " [ 9 10 11 12]]\n",
      "1\n",
      "[0 1 2 3]\n",
      "[ 0.  5. 10.]\n",
      "[1 2 3 4]\n",
      "2\n",
      "8\n",
      "[1 2 3]\n",
      "[2]\n",
      "[3 4]\n",
      "[2 3]\n"
     ]
    }
   ],
   "source": [
    "a=np.array([1,2,3,4])  #Initialising a 1D array.\n",
    "print(type(a)) #returns type numpy.ndarray\n",
    "b= np.array([[1,2,3,4],[5,6,7,8],[9,10,11,12]]) #Initialising a multi-dimensioanl array(3 dimensional in this case.)\n",
    "print(a) #To print the whole array.\n",
    "print(b)\n",
    "print(a[0]) #using indexing to print an element of the array.\n",
    "\n",
    "c=np.arange(4) #used to create an arrayof range of elements.\n",
    "print(c)\n",
    "\n",
    "d=np.linspace(0,10,num=3) #creats an array with values that are spaced linearly in a specified interval.\n",
    "print(d)\n",
    "\n",
    "#To print a single element of a multidimensional array, multidimensional indexing is required.\n",
    "print(b[0]) #prints the 0th element of the 3-D array which in itself is a 1-D array.\n",
    "print(b[0][1]) #prints the second element of the first 1-D array.\n",
    "\n",
    "#negative indexing using numpy\n",
    "print(b[1][-1]) #prints the last element from ther second dimension.\n",
    "\n",
    "#Slicing of arrays created using numpy \n",
    "print(a[:3]) #prints an array containing first 3 elements of the array.\n",
    "print(a[1:2]) #prints the second element in the array.\n",
    "print(a[2:]) #prints the element from the index 2 to the last element.\n",
    "print(a[-3:-1]) #Slices the array from index 3 from the end to index 1 from the end.\n",
    "#Similarly 2d arrays can be sliced.\n",
    "\n"
   ]
  },
  {
   "cell_type": "code",
   "execution_count": 17,
   "id": "4c8c64c8",
   "metadata": {},
   "outputs": [
    {
     "name": "stdout",
     "output_type": "stream",
     "text": [
      "[2 3 4 5 6 7 8]\n",
      "[1 2 3 4 5 4 8 7 3 2 6]\n"
     ]
    }
   ],
   "source": [
    "#sorting a numpy array\n",
    "e = np.array([5,4,8,7,3,2,6]) #sorts the array in ascending order.\n",
    "print(np.sort(e))\n",
    "\n",
    "#concatenate two arrays\n",
    "f=np.concatenate((a,e))\n",
    "print(f)"
   ]
  },
  {
   "cell_type": "markdown",
   "id": "3cff1578",
   "metadata": {},
   "source": [
    "### Shape and size of an array"
   ]
  },
  {
   "cell_type": "code",
   "execution_count": 32,
   "id": "d91daa31",
   "metadata": {},
   "outputs": [
    {
     "name": "stdout",
     "output_type": "stream",
     "text": [
      "(3, 4)\n",
      "2\n",
      "12\n",
      "[[ 1  2]\n",
      " [ 3  4]\n",
      " [ 5  6]\n",
      " [ 7  8]\n",
      " [ 9 10]\n",
      " [11 12]]\n",
      "[[ 1  2  3  4  5  6]\n",
      " [ 7  8  9 10 11 12]]\n"
     ]
    }
   ],
   "source": [
    "print(np.shape(b)) #returns the shape of the aray\n",
    "print(np.ndim(b)) #returns the dimension of the array\n",
    "print(np.size(b)) #returns the number of elements in the array.\n",
    "\n",
    "#reshaping the array\n",
    "\n",
    "g = b.reshape(6,2) #an array can be reshaoped as long as the new array has the same number of elements.\n",
    "print(g)\n",
    "\n",
    "#This can also be done by using np.reshape, some few more parameters can also be specified.\n",
    "h= np.reshape(b, newshape=(2,6))\n",
    "print(h)"
   ]
  },
  {
   "cell_type": "markdown",
   "id": "bd52f32a",
   "metadata": {},
   "source": [
    "### Adding axis to an array"
   ]
  },
  {
   "cell_type": "code",
   "execution_count": 39,
   "id": "32848044",
   "metadata": {
    "scrolled": true
   },
   "outputs": [
    {
     "name": "stdout",
     "output_type": "stream",
     "text": [
      "(4,)\n",
      "[[1 2 3 4]]\n",
      "(1, 4)\n",
      "(4, 1)\n"
     ]
    }
   ],
   "source": [
    "#Converting 1D array to 2D array\n",
    "print(a.shape)\n",
    "\n",
    "#np.newaxis\n",
    "a2=a[np.newaxis, :] #1D array converted to a row vector. Similarly it can be turned into a column vector.\n",
    "print(a2)\n",
    "\n",
    "#np.expand_dims\n",
    "a3=np.expand_dims(a,axis=0)\n",
    "print(a3.shape)\n",
    "\n",
    "a4=np.expand_dims(a,axis =1)\n",
    "print(a4.shape)\n",
    "\n",
    "\n"
   ]
  },
  {
   "cell_type": "markdown",
   "id": "e1911376",
   "metadata": {},
   "source": [
    "### Creating an array from existing data\n"
   ]
  },
  {
   "cell_type": "code",
   "execution_count": 53,
   "id": "55cea3c1",
   "metadata": {},
   "outputs": [
    {
     "name": "stdout",
     "output_type": "stream",
     "text": [
      "[[5 4]\n",
      " [6 2]\n",
      " [1 2]\n",
      " [3 4]]\n",
      "[[5 4 1 2]\n",
      " [6 2 3 4]]\n",
      "[[ 5  2  3  4]\n",
      " [ 5  6  7  8]\n",
      " [ 9 10 11 12]]\n",
      "[5 2 3 4]\n",
      "[5 2 3 4]\n",
      "[[ 5  2  3  4]\n",
      " [ 5  6  7  8]\n",
      " [ 9 10 11 12]]\n",
      "[[ 5  2  3  4]\n",
      " [ 5  6  7  8]\n",
      " [ 9 10 11 12]]\n",
      "[5 6 7 8]\n",
      "[5 6 9 8]\n",
      "[[ 5  2  3  4]\n",
      " [ 5  6  7  8]\n",
      " [ 9 10 11 12]]\n"
     ]
    }
   ],
   "source": [
    "#stacking of arrays\n",
    "b1=([5,4],[6,2])\n",
    "b2=([1,2],[3,4])\n",
    "print(np.vstack((b1,b2))) #vertical stacking of the two arrays\n",
    "\n",
    "print(np.hstack((b1,b2))) #horizontal stacking of the arrays\n",
    "\n",
    "\n",
    "#view method - any changes made to the original array will affect the original array\n",
    "print(b)\n",
    "\n",
    "b_new=b[0,:]\n",
    "print(b_new)\n",
    "b_new[0]=5\n",
    "print(b_new)\n",
    "print(b) #original array is modified\n",
    "\n",
    "\n",
    "#copy method- any changes made in the copied array will not modify the original array\n",
    "b_copy=b.copy()\n",
    "print(b_copy)\n",
    "b_copy_new=b_copy[1,:]\n",
    "print(b_copy_new)\n",
    "b_copy_new[2]=9\n",
    "print(b_copy_new)\n",
    "print(b) #remains the same.\n"
   ]
  },
  {
   "cell_type": "markdown",
   "id": "99d65e77",
   "metadata": {},
   "source": [
    "### Basic Array Operations"
   ]
  },
  {
   "cell_type": "code",
   "execution_count": 55,
   "id": "01bf7df7",
   "metadata": {},
   "outputs": [
    {
     "name": "stdout",
     "output_type": "stream",
     "text": [
      "[2 3]\n"
     ]
    }
   ],
   "source": [
    "#Addition\n",
    "arr=np.array([1,2])\n",
    "arr_1=np.ones(2,dtype=int)\n",
    "print(arr+arr_1)\n",
    "\n",
    "#Similarly Subtraction, Divison and Multiplication can be carried out\n"
   ]
  },
  {
   "cell_type": "markdown",
   "id": "ffad24d0",
   "metadata": {},
   "source": [
    "### Broadcasting"
   ]
  },
  {
   "cell_type": "code",
   "execution_count": 57,
   "id": "58c85c57",
   "metadata": {},
   "outputs": [
    {
     "name": "stdout",
     "output_type": "stream",
     "text": [
      "[4 8]\n"
     ]
    }
   ],
   "source": [
    "print(arr*4) #operation carried out between an array and single number"
   ]
  },
  {
   "cell_type": "markdown",
   "id": "80e6a18e",
   "metadata": {},
   "source": [
    "### Creating matrices"
   ]
  },
  {
   "cell_type": "code",
   "execution_count": 58,
   "id": "c4c43139",
   "metadata": {},
   "outputs": [
    {
     "name": "stdout",
     "output_type": "stream",
     "text": [
      "[[ 5  2  3  4]\n",
      " [ 5  6  7  8]\n",
      " [ 9 10 11 12]]\n"
     ]
    }
   ],
   "source": [
    "print(b)"
   ]
  },
  {
   "cell_type": "code",
   "execution_count": 59,
   "id": "6d385934",
   "metadata": {},
   "outputs": [
    {
     "name": "stdout",
     "output_type": "stream",
     "text": [
      "2\n",
      "[[ 5  6  7  8]\n",
      " [ 9 10 11 12]]\n",
      "[5 5]\n"
     ]
    }
   ],
   "source": [
    "print(b[0,1])\n",
    "print(b[1:3])\n",
    "print(b[0:2,0])"
   ]
  },
  {
   "cell_type": "code",
   "execution_count": 61,
   "id": "7cd964e2",
   "metadata": {},
   "outputs": [
    {
     "name": "stdout",
     "output_type": "stream",
     "text": [
      "12\n",
      "2\n",
      "82\n",
      "[225 120 231 384]\n"
     ]
    }
   ],
   "source": [
    "print(b.max())\n",
    "print(b.min())\n",
    "print(b.sum())\n",
    "print(b.prod(axis=0))\n"
   ]
  },
  {
   "cell_type": "code",
   "execution_count": 69,
   "id": "40f33e6d",
   "metadata": {},
   "outputs": [
    {
     "name": "stdout",
     "output_type": "stream",
     "text": [
      "[[ 5  2  3  4]\n",
      " [ 5  6  7  8]\n",
      " [ 9 10 11 12]]\n",
      "[ 2  3  4  5  6  7  8  9 10 11 12]\n",
      "(array([1, 2, 3, 4]), array([0, 1, 2, 3], dtype=int64))\n"
     ]
    }
   ],
   "source": [
    "print(b)\n",
    "print(np.unique(b)) #prints unique elements in a numpy array\n",
    "print(np.unique(a,return_index=True))"
   ]
  },
  {
   "cell_type": "code",
   "execution_count": null,
   "id": "d6c01d67",
   "metadata": {},
   "outputs": [],
   "source": []
  }
 ],
 "metadata": {
  "kernelspec": {
   "display_name": "Python 3 (ipykernel)",
   "language": "python",
   "name": "python3"
  },
  "language_info": {
   "codemirror_mode": {
    "name": "ipython",
    "version": 3
   },
   "file_extension": ".py",
   "mimetype": "text/x-python",
   "name": "python",
   "nbconvert_exporter": "python",
   "pygments_lexer": "ipython3",
   "version": "3.9.12"
  }
 },
 "nbformat": 4,
 "nbformat_minor": 5
}
