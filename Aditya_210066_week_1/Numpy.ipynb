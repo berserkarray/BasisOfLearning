{
 "cells": [
  {
   "cell_type": "markdown",
   "id": "399d0657",
   "metadata": {},
   "source": [
    "# Numpy\n",
    "\n",
    "1. Numpy provides a lot of functions to work in the domain of Linear Algebra, Matrices, Fourier transform \n",
    "   and more.\n",
    "2. It is a Python library used for working with arrays and functions related to arrays.\n",
    "3. Most of the part of the Numpy library is created using C & C++.\n",
    "\n",
    "## Working with Numpy\n",
    "\n",
    "### Creating an array"
   ]
  },
  {
   "cell_type": "code",
   "execution_count": 1,
   "id": "d8d27c5e",
   "metadata": {},
   "outputs": [],
   "source": [
    "import numpy as np # imports Numpy "
   ]
  },
  {
   "cell_type": "markdown",
   "id": "ecb6c3c3",
   "metadata": {},
   "source": [
    "#### 0 dimensional array-"
   ]
  },
  {
   "cell_type": "code",
   "execution_count": 11,
   "id": "5166a205",
   "metadata": {},
   "outputs": [
    {
     "name": "stdout",
     "output_type": "stream",
     "text": [
      "21\n",
      "0\n"
     ]
    },
    {
     "data": {
      "text/plain": [
       "()"
      ]
     },
     "execution_count": 11,
     "metadata": {},
     "output_type": "execute_result"
    }
   ],
   "source": [
    "a=np.array(21)\n",
    "print(a)\n",
    "print(a.ndim)# printing dimension of array\n",
    "a.shape      #gives size of array"
   ]
  },
  {
   "cell_type": "markdown",
   "id": "fbe015a9",
   "metadata": {},
   "source": [
    "#### 1 dimensional array-"
   ]
  },
  {
   "cell_type": "code",
   "execution_count": 16,
   "id": "9a0c945b",
   "metadata": {},
   "outputs": [
    {
     "name": "stdout",
     "output_type": "stream",
     "text": [
      "[1 2 3]\n",
      "1\n"
     ]
    },
    {
     "data": {
      "text/plain": [
       "(3,)"
      ]
     },
     "execution_count": 16,
     "metadata": {},
     "output_type": "execute_result"
    }
   ],
   "source": [
    "b=np.array([1,2,3])\n",
    "print(b)\n",
    "print(b.ndim)\n",
    "b.shape"
   ]
  },
  {
   "cell_type": "markdown",
   "id": "eb91a756",
   "metadata": {},
   "source": [
    "#### 2 dimensional array-"
   ]
  },
  {
   "cell_type": "code",
   "execution_count": 19,
   "id": "573851f1",
   "metadata": {},
   "outputs": [
    {
     "name": "stdout",
     "output_type": "stream",
     "text": [
      "[[1 2 3]\n",
      " [4 5 6]]\n",
      "2\n"
     ]
    },
    {
     "data": {
      "text/plain": [
       "(2, 3)"
      ]
     },
     "execution_count": 19,
     "metadata": {},
     "output_type": "execute_result"
    }
   ],
   "source": [
    "c=np.array([[1,2,3],[4,5,6]])\n",
    "print(c)\n",
    "print(c.ndim)\n",
    "c.shape"
   ]
  },
  {
   "cell_type": "markdown",
   "id": "b6104b3f",
   "metadata": {},
   "source": [
    "#### 3 dimensional array-"
   ]
  },
  {
   "cell_type": "code",
   "execution_count": 20,
   "id": "e11db9d5",
   "metadata": {},
   "outputs": [
    {
     "name": "stdout",
     "output_type": "stream",
     "text": [
      "[[[1 2]\n",
      "  [3 4]\n",
      "  [1 8]]\n",
      "\n",
      " [[2 8]\n",
      "  [5 6]\n",
      "  [6 7]]]\n",
      "3\n"
     ]
    },
    {
     "data": {
      "text/plain": [
       "(2, 3, 2)"
      ]
     },
     "execution_count": 20,
     "metadata": {},
     "output_type": "execute_result"
    }
   ],
   "source": [
    "d=np.array([[[1,2],[3,4],[1,8]],[[2,8],[5,6],[6,7]]])\n",
    "print(d)\n",
    "print(d.ndim)\n",
    "d.shape"
   ]
  },
  {
   "cell_type": "markdown",
   "id": "a1710d47",
   "metadata": {},
   "source": [
    "#### Function to access specific element \n",
    "\n",
    "**Index start from 0 and not 1.**"
   ]
  },
  {
   "cell_type": "code",
   "execution_count": 23,
   "id": "47360502",
   "metadata": {},
   "outputs": [
    {
     "data": {
      "text/plain": [
       "3"
      ]
     },
     "execution_count": 23,
     "metadata": {},
     "output_type": "execute_result"
    }
   ],
   "source": [
    "b[2]"
   ]
  },
  {
   "cell_type": "code",
   "execution_count": 27,
   "id": "25ad4f41",
   "metadata": {},
   "outputs": [
    {
     "data": {
      "text/plain": [
       "1"
      ]
     },
     "execution_count": 27,
     "metadata": {},
     "output_type": "execute_result"
    }
   ],
   "source": [
    "c[0,0]"
   ]
  },
  {
   "cell_type": "code",
   "execution_count": 28,
   "id": "97e3a0b2",
   "metadata": {},
   "outputs": [
    {
     "data": {
      "text/plain": [
       "4"
      ]
     },
     "execution_count": 28,
     "metadata": {},
     "output_type": "execute_result"
    }
   ],
   "source": [
    "d[0,1,1]"
   ]
  },
  {
   "cell_type": "code",
   "execution_count": 51,
   "id": "c10a894c",
   "metadata": {},
   "outputs": [
    {
     "data": {
      "text/plain": [
       "array([3, 6])"
      ]
     },
     "execution_count": 51,
     "metadata": {},
     "output_type": "execute_result"
    }
   ],
   "source": [
    "c[:,2] #prints 3rd column of matrix\n"
   ]
  },
  {
   "cell_type": "code",
   "execution_count": 50,
   "id": "3c8a787f",
   "metadata": {},
   "outputs": [
    {
     "data": {
      "text/plain": [
       "array([4, 5, 6])"
      ]
     },
     "execution_count": 50,
     "metadata": {},
     "output_type": "execute_result"
    }
   ],
   "source": [
    "c[1,:] #prints 2nd row of given matrix"
   ]
  },
  {
   "cell_type": "code",
   "execution_count": 53,
   "id": "1198d14b",
   "metadata": {},
   "outputs": [
    {
     "data": {
      "text/plain": [
       "array([[2, 8],\n",
       "       [5, 6],\n",
       "       [6, 7]])"
      ]
     },
     "execution_count": 53,
     "metadata": {},
     "output_type": "execute_result"
    }
   ],
   "source": [
    "d[1,:,:] "
   ]
  },
  {
   "cell_type": "code",
   "execution_count": 56,
   "id": "dd2e69fe",
   "metadata": {},
   "outputs": [
    {
     "data": {
      "text/plain": [
       "array([6, 7])"
      ]
     },
     "execution_count": 56,
     "metadata": {},
     "output_type": "execute_result"
    }
   ],
   "source": [
    "d[1,2,:]"
   ]
  },
  {
   "cell_type": "markdown",
   "id": "39f0bf28",
   "metadata": {},
   "source": [
    "#### Arrays with numerical range\n",
    " Format - np.arrange(start index,stop index,step size,dtype)\n",
    " \n",
    "**Stop index is not included in array.**\n",
    "\n",
    "**If data type is not specified then default data type(int) is taken.**"
   ]
  },
  {
   "cell_type": "code",
   "execution_count": 35,
   "id": "688e0435",
   "metadata": {},
   "outputs": [
    {
     "name": "stdout",
     "output_type": "stream",
     "text": [
      "[0 2 4 6 8]\n",
      "[ 5  6  7  8  9 10]\n"
     ]
    }
   ],
   "source": [
    "q=np.arange(0,10,2)\n",
    "p=np.arange(5,11,1,dtype=\"int\")\n",
    "print(q)\n",
    "print(p)"
   ]
  },
  {
   "cell_type": "markdown",
   "id": "c917ff7b",
   "metadata": {},
   "source": [
    "#### Matrix operations"
   ]
  },
  {
   "cell_type": "code",
   "execution_count": 37,
   "id": "fcea9678",
   "metadata": {},
   "outputs": [
    {
     "name": "stdout",
     "output_type": "stream",
     "text": [
      "[ 5  7 17]\n",
      "[26 28 38]\n"
     ]
    }
   ],
   "source": [
    "w=np.array([1,2,8])\n",
    "r=np.array([4,5,9])\n",
    "print(w+r) #prints sum of matrices\n",
    "print(a+w+r)"
   ]
  },
  {
   "cell_type": "code",
   "execution_count": 39,
   "id": "b4664164",
   "metadata": {},
   "outputs": [
    {
     "name": "stdout",
     "output_type": "stream",
     "text": [
      "86\n"
     ]
    }
   ],
   "source": [
    "t=np.matmul(w,r) #matrix multiplication between w & r\n",
    "print(t)"
   ]
  },
  {
   "cell_type": "code",
   "execution_count": 42,
   "id": "8b36dc5f",
   "metadata": {},
   "outputs": [
    {
     "name": "stdout",
     "output_type": "stream",
     "text": [
      "1\n",
      "1\n",
      "8\n"
     ]
    }
   ],
   "source": [
    "e=np.min(b) #gives minimum value in a matrix\n",
    "y=np.min(d)\n",
    "g=np.max(d) # gives maximum value in a matrix\n",
    "print(e)\n",
    "print(y)\n",
    "print(g)"
   ]
  },
  {
   "cell_type": "code",
   "execution_count": 43,
   "id": "0afb0fcc",
   "metadata": {},
   "outputs": [
    {
     "data": {
      "text/plain": [
       "array([[1, 4],\n",
       "       [2, 5],\n",
       "       [3, 6]])"
      ]
     },
     "execution_count": 43,
     "metadata": {},
     "output_type": "execute_result"
    }
   ],
   "source": [
    "c.T # gives transpose of a matrix"
   ]
  },
  {
   "cell_type": "code",
   "execution_count": 47,
   "id": "17de7db4",
   "metadata": {},
   "outputs": [
    {
     "name": "stdout",
     "output_type": "stream",
     "text": [
      "[[[2 3]\n",
      "  [4 5]\n",
      "  [2 9]]\n",
      "\n",
      " [[3 9]\n",
      "  [6 7]\n",
      "  [7 8]]]\n",
      "[-1  0  1]\n",
      "[0.5 1.  1.5]\n",
      "[2 4 6]\n"
     ]
    }
   ],
   "source": [
    "print(d+1)# adds 1 to all elements of given matrix\n",
    "print(b-2)\n",
    "print(b/2)#divides every element of given matrix\n",
    "print(b*2)#multiplies every element of given matrix"
   ]
  },
  {
   "cell_type": "code",
   "execution_count": null,
   "id": "e32ca90b",
   "metadata": {},
   "outputs": [],
   "source": []
  }
 ],
 "metadata": {
  "kernelspec": {
   "display_name": "Python 3 (ipykernel)",
   "language": "python",
   "name": "python3"
  },
  "language_info": {
   "codemirror_mode": {
    "name": "ipython",
    "version": 3
   },
   "file_extension": ".py",
   "mimetype": "text/x-python",
   "name": "python",
   "nbconvert_exporter": "python",
   "pygments_lexer": "ipython3",
   "version": "3.9.12"
  }
 },
 "nbformat": 4,
 "nbformat_minor": 5
}
