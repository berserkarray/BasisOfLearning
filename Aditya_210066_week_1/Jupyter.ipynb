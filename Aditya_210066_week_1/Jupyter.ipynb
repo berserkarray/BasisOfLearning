{
 "cells": [
  {
   "cell_type": "markdown",
   "id": "00581b96",
   "metadata": {},
   "source": [
    "# Jupyter Notebook\n",
    "\n",
    "## Introduction\n",
    "The Jupyter Notebook is an open source web application that you can use to create and share\n",
    "documents that contain live code, equations, visualizations, and text. Jupyter Notebook is \n",
    "maintained by the people at Project Jupyter.Jupyter notebooks can also be converted to a \n",
    "number of standard output formats (HTML, Powerpoint, LaTeX, PDF, ReStructuredText, Markdown,\n",
    "Python) through the web interface. This flexibility makes it easy for data scientists to share\n",
    "their work with others.\n",
    "\n",
    "\n",
    "## What are Jupyter notebooks used for?\n",
    "Jupyter notebooks are especially useful for \"showing the work\" that your data team has done \n",
    "through a combination of code, markdown, links, and images. They are easy to use and can be \n",
    "run cell by cell to better understand what the code does.Jupyter notebooks are used for all \n",
    "sorts of data science tasks such as exploratory data analysis (EDA), data cleaning and \n",
    "transformation, data visualization, statistical modeling, machine learning, and deep learning.\n",
    "\n",
    "## Cells \n",
    "A cell is a multiline text input field, and its contents can be executed by using **Shift-Enter**\n",
    ", or by clicking either the “Play” button the toolbar, or Cell, Run in the menu bar. The \n",
    "execution behavior of a cell is determined by the cell's type. Basically they are used to write \n",
    "code and run it.\n",
    "\n",
    "\n",
    "\n",
    "\n"
   ]
  }
 ],
 "metadata": {
  "kernelspec": {
   "display_name": "Python 3 (ipykernel)",
   "language": "python",
   "name": "python3"
  },
  "language_info": {
   "codemirror_mode": {
    "name": "ipython",
    "version": 3
   },
   "file_extension": ".py",
   "mimetype": "text/x-python",
   "name": "python",
   "nbconvert_exporter": "python",
   "pygments_lexer": "ipython3",
   "version": "3.9.12"
  }
 },
 "nbformat": 4,
 "nbformat_minor": 5
}
