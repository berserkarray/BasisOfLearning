{
 "cells": [
  {
   "cell_type": "markdown",
   "id": "2322030c",
   "metadata": {},
   "source": [
    " #                                                 Anaconda\n",
    " \n",
    " \n",
    " ### What is Anaconda?\n",
    " Conda is an open-source package and environment management system that runs on Windows, macOS, and Linux.\n",
    " Conda quickly installs, runs, and updates packages and their dependencies. It also easily creates, saves,\n",
    " loads, and switches between environments on your local computer. It was created for Python programs, but\n",
    " it can package and distribute software for any language.\n",
    " \n",
    "\n",
    "### Installing Anaconda-\n",
    "I reffered to https://youtu.be/5mDYijMfSzs this video to download Anaconda on my laptop(windows 10).\n",
    "Or go through the following steps to download it on your laptop(windows 10)\n",
    "1. Search Anaconda.com on Google.\n",
    "2. Click on download button(Python 3.9 version).\n",
    "3. Open the downloaded file. Setup will start.\n",
    "4. Wait till setup is completed.\n",
    "5. Few moments later the installation will be completed.\n",
    "\n",
    "---\n",
    "\n",
    "## Environment in Anaconda\n",
    "\n",
    "### What is conda environment?\n",
    "Conda environment is a directory which contains different types of packages which you have installed.\n",
    "Anaconda comes with a already installed base environment which contains various pacakages. It is \n",
    "preffered to use different environments for different projects.\n",
    "\n",
    "### How to create environment in Anaconda?\n",
    "1. Open Anaconda Prompt.\n",
    "2. Type \" conda create name --'type name of environment'\".\n",
    "3. Type \"y\".\n",
    "4. This will create a new environment.\n",
    "\n",
    "### How to install packages in environment?\n",
    "1. Click on 'Environments'.\n",
    "2. Select desired environment.\n",
    "3. Above 'Name' column select 'Not installed'.\n",
    "4. In top right corner enter the name of package you want to download in the block saying 'Search packages'."
   ]
  }
 ],
 "metadata": {
  "kernelspec": {
   "display_name": "Python 3 (ipykernel)",
   "language": "python",
   "name": "python3"
  },
  "language_info": {
   "codemirror_mode": {
    "name": "ipython",
    "version": 3
   },
   "file_extension": ".py",
   "mimetype": "text/x-python",
   "name": "python",
   "nbconvert_exporter": "python",
   "pygments_lexer": "ipython3",
   "version": "3.9.12"
  }
 },
 "nbformat": 4,
 "nbformat_minor": 5
}
