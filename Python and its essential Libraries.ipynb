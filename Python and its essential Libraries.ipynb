{
 "cells": [
  {
   "cell_type": "markdown",
   "id": "f22bb378",
   "metadata": {},
   "source": [
    "# Python"
   ]
  },
  {
   "cell_type": "markdown",
   "id": "97240608",
   "metadata": {},
   "source": [
    "### Just like C, Python is also a programming Language\n",
    "### Once we have learnt C, it is not a big task to learn Python\n",
    "### It's syntax is much more user-friendly as compared to other programming languages like C\n",
    "### The best place to learn each and every thing about Python is its Official Documentation\n",
    "### Link to Documentation: https://docs.python.org/3.9/"
   ]
  },
  {
   "cell_type": "markdown",
   "id": "8197987f",
   "metadata": {},
   "source": [
    "# Essential Libraries"
   ]
  },
  {
   "cell_type": "markdown",
   "id": "bd22a15f",
   "metadata": {},
   "source": [
    "### Just like we have stdio.h, stdib.h, math.h in C, similarly we have many useful libraries in Python. Since we have learnt C, just reading through the below resources carefully would be more than sufficient to become an expert at using these libraries."
   ]
  },
  {
   "cell_type": "markdown",
   "id": "5cfc5ad5",
   "metadata": {},
   "source": [
    "## Numpy"
   ]
  },
  {
   "cell_type": "markdown",
   "id": "a22343e4",
   "metadata": {},
   "source": [
    "### NumPy is the fundamental package for scientific computing in Python. It is a Python library that provides a multidimensional array and many more useful things\n",
    "### Link to learn the syntax of Numpy: https://numpy.org/doc/stable/user/absolute_beginners.html"
   ]
  },
  {
   "cell_type": "markdown",
   "id": "7dae3376",
   "metadata": {},
   "source": [
    "## Pandas"
   ]
  },
  {
   "cell_type": "markdown",
   "id": "70bbb1fa",
   "metadata": {},
   "source": [
    "### Pandas is a Python library used for working with data sets. It has functions for analyzing, cleaning, exploring, and manipulating data."
   ]
  },
  {
   "cell_type": "markdown",
   "id": "ba687e1c",
   "metadata": {},
   "source": [
    "### Link to explore Pandas: https://pandas.pydata.org/docs/user_guide/index.html"
   ]
  },
  {
   "cell_type": "markdown",
   "id": "24d8036e",
   "metadata": {},
   "source": [
    "## Matplotlib"
   ]
  },
  {
   "cell_type": "markdown",
   "id": "cf3d361e",
   "metadata": {},
   "source": [
    "### Matplotlib is a comprehensive library for creating static, animated, and interactive visualizations in Python. It makes easy things easy and hard things possible by helping us to visualise the data we have."
   ]
  },
  {
   "cell_type": "markdown",
   "id": "62e82ab4",
   "metadata": {},
   "source": [
    "### Link to gain more knowledge about Matplotlib: https://matplotlib.org/stable/tutorials/index.html"
   ]
  },
  {
   "cell_type": "code",
   "execution_count": null,
   "id": "79fca07b",
   "metadata": {},
   "outputs": [],
   "source": []
  }
 ],
 "metadata": {
  "kernelspec": {
   "display_name": "Python 3 (ipykernel)",
   "language": "python",
   "name": "python3"
  },
  "language_info": {
   "codemirror_mode": {
    "name": "ipython",
    "version": 3
   },
   "file_extension": ".py",
   "mimetype": "text/x-python",
   "name": "python",
   "nbconvert_exporter": "python",
   "pygments_lexer": "ipython3",
   "version": "3.9.12"
  }
 },
 "nbformat": 4,
 "nbformat_minor": 5
}
