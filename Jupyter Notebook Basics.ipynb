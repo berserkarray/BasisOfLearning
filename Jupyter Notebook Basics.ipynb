{
 "cells": [
  {
   "cell_type": "markdown",
   "id": "2ea297b6",
   "metadata": {},
   "source": [
    "Basics of Jupyter Notebook.\n",
    "Jupyter Notebook is a web based interactive computing platform.\n",
    "It contains both code and rich text elements making it ideal for analysis description.\n",
    "Its two main components are the kernels and a dashboard.\n",
    "A kernel is a language specific program that executes the user code.\n",
    "The dashboard shows you the notebooks that you have made and manages the kernels.\n",
    "You can run Jupyter Notebook with the Anaconda Python Distribution.\n",
    "To get started, run the command - jupyter notebook\n",
    "This opens the application in the web browser on the address localhost:8888\n",
    "You can now explore Jupyter Notebook and discover all the features. You can make a new notebook by clicking on New in the Files tab"
   ]
  }
 ],
 "metadata": {
  "kernelspec": {
   "display_name": "Python 3 (ipykernel)",
   "language": "python",
   "name": "python3"
  },
  "language_info": {
   "codemirror_mode": {
    "name": "ipython",
    "version": 3
   },
   "file_extension": ".py",
   "mimetype": "text/x-python",
   "name": "python",
   "nbconvert_exporter": "python",
   "pygments_lexer": "ipython3",
   "version": "3.9.12"
  }
 },
 "nbformat": 4,
 "nbformat_minor": 5
}
