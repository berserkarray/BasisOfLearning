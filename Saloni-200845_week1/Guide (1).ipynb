{
 "cells": [
  {
   "cell_type": "markdown",
   "id": "0a96f7f8",
   "metadata": {},
   "source": [
    "# Guide to Jupyter Notebook\n",
    "\n",
    "This is a walk through the basics of jupyter notebook.\n",
    "\n",
    "### Launching Jupyter Notebook\n",
    "\n",
    "You can launch Jupyter Notebook from Anaconda Navigator.\n",
    "> Once launched, a new window in the browser is opened. Click the new dropdown menu at the top right corner and select ***Python3***.\n",
    "\n",
    "> A new notebook is created. You can now start using it.\n",
    "\n",
    "### Operations\n",
    "\n",
    "1. Adding a new cell\n",
    "> By default a cell is already added. To add more cells, you can either do so from the insert tab. \n",
    "2. Deleting cells\n",
    "> Can do so from the edit tab, where you will find the delete cells option.\n",
    "3. Now if a cell is indicated green that means it is in editing mode. Otherwise it is blue.\n",
    "4. Cell type\n",
    "> One can select the cell type from the cells tab. You can either choose markdwon or code.\n",
    "\n",
    "> **Markdown** : In this, you can type using markdown syntax and then run the code."
   ]
  },
  {
   "cell_type": "markdown",
   "id": "8d6ceb74",
   "metadata": {},
   "source": [
    "# Hello World"
   ]
  },
  {
   "cell_type": "markdown",
   "id": "ac300207",
   "metadata": {},
   "source": [
    "# Hello World"
   ]
  },
  {
   "cell_type": "markdown",
   "id": "6c015293",
   "metadata": {},
   "source": [
    "> **Code** : In this, you code in the cell and run it to get the desired output."
   ]
  },
  {
   "cell_type": "code",
   "execution_count": 3,
   "id": "7a361751",
   "metadata": {},
   "outputs": [
    {
     "name": "stdout",
     "output_type": "stream",
     "text": [
      "Hello World\n"
     ]
    }
   ],
   "source": [
    "print(\"Hello World\")"
   ]
  },
  {
   "cell_type": "markdown",
   "id": "8af998fd",
   "metadata": {},
   "source": [
    "5. Another thing to note here is the numbers in [] before every cell, they indicate the order of execution. The lines in Jupyter are not executed line by line."
   ]
  },
  {
   "cell_type": "code",
   "execution_count": 4,
   "id": "7a73bb28",
   "metadata": {},
   "outputs": [],
   "source": [
    "name = \"John\""
   ]
  },
  {
   "cell_type": "code",
   "execution_count": 7,
   "id": "5a106b1f",
   "metadata": {},
   "outputs": [
    {
     "data": {
      "text/plain": [
       "'Shawn'"
      ]
     },
     "execution_count": 7,
     "metadata": {},
     "output_type": "execute_result"
    }
   ],
   "source": [
    "name"
   ]
  },
  {
   "cell_type": "code",
   "execution_count": 6,
   "id": "4baf59c9",
   "metadata": {},
   "outputs": [],
   "source": [
    "name = \"Shawn\""
   ]
  },
  {
   "cell_type": "markdown",
   "id": "47b2ebb4",
   "metadata": {},
   "source": [
    "But to make it easier to go through the notebook, it is advisable to maintain the order.\n",
    "\n",
    "6. Running a cell\n",
    "> Can do so from the Cell tab or use these keyboard shortcuts to make life easier.\n",
    "\n",
    "> * **Shift + Enter** : Run the current cell and select below ( adds a new cell incase there isn't any below)\n",
    "> * **Ctrl + Enter** : Run the current cell\n",
    "> * **ALt + Enter** : Run the current cell and insert below\n",
    "> * **Enter** : Enter a new line in the current cell\n",
    "\n",
    "7. Downloading the notebook\n",
    "> We can export this notebook in various formats which can be selected from the File tab -> Download as. \n",
    "> I have exported this file as a notebook to be able to add it to github."
   ]
  }
 ],
 "metadata": {
  "kernelspec": {
   "display_name": "Python 3 (ipykernel)",
   "language": "python",
   "name": "python3"
  },
  "language_info": {
   "codemirror_mode": {
    "name": "ipython",
    "version": 3
   },
   "file_extension": ".py",
   "mimetype": "text/x-python",
   "name": "python",
   "nbconvert_exporter": "python",
   "pygments_lexer": "ipython3",
   "version": "3.9.12"
  }
 },
 "nbformat": 4,
 "nbformat_minor": 5
}
