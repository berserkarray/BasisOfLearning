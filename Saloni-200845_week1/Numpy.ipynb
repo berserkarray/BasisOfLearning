{
 "cells": [
  {
   "cell_type": "markdown",
   "id": "2652cb4b",
   "metadata": {},
   "source": [
    "# NumPy\n",
    "\n",
    "NumPy is a python library used for working with arrays. NumPy stands for Numerical Python. It makes working wih arrays easier and faster.\n",
    "\n",
    "### Creating NumPy arrays\n",
    "\n",
    "You can create a single dimensional or a multidimentional array.\n",
    "\n",
    "> Import NumPy library. The name after **as** refers to an alias name for the library."
   ]
  },
  {
   "cell_type": "code",
   "execution_count": 1,
   "id": "5d822890",
   "metadata": {},
   "outputs": [],
   "source": [
    "import numpy as np"
   ]
  },
  {
   "cell_type": "code",
   "execution_count": 3,
   "id": "297ab071",
   "metadata": {},
   "outputs": [],
   "source": [
    "n1 = np.array([1,2,3,4])     #this is array() method used to create ndarray objects"
   ]
  },
  {
   "cell_type": "code",
   "execution_count": 4,
   "id": "6478e61b",
   "metadata": {},
   "outputs": [
    {
     "data": {
      "text/plain": [
       "array([1, 2, 3, 4])"
      ]
     },
     "execution_count": 4,
     "metadata": {},
     "output_type": "execute_result"
    }
   ],
   "source": [
    "n1"
   ]
  },
  {
   "cell_type": "code",
   "execution_count": 8,
   "id": "3ac88bd9",
   "metadata": {},
   "outputs": [],
   "source": [
    "n2 = np.array([[1,2],[3,4]])"
   ]
  },
  {
   "cell_type": "code",
   "execution_count": 9,
   "id": "9c780526",
   "metadata": {},
   "outputs": [
    {
     "data": {
      "text/plain": [
       "array([[1, 2],\n",
       "       [3, 4]])"
      ]
     },
     "execution_count": 9,
     "metadata": {},
     "output_type": "execute_result"
    }
   ],
   "source": [
    "n2"
   ]
  },
  {
   "cell_type": "markdown",
   "id": "1a7075a4",
   "metadata": {},
   "source": [
    "> Initializing the array with zeroes. For this we use the zeros method"
   ]
  },
  {
   "cell_type": "code",
   "execution_count": 12,
   "id": "503f24b9",
   "metadata": {},
   "outputs": [
    {
     "data": {
      "text/plain": [
       "array([[0., 0.]])"
      ]
     },
     "execution_count": 12,
     "metadata": {},
     "output_type": "execute_result"
    }
   ],
   "source": [
    "n3 = np.zeros((1,2))             #the argument is the dimension of the array\n",
    "n3"
   ]
  },
  {
   "cell_type": "code",
   "execution_count": 13,
   "id": "2c22cd4e",
   "metadata": {},
   "outputs": [
    {
     "data": {
      "text/plain": [
       "array([[0., 0., 0., 0., 0.],\n",
       "       [0., 0., 0., 0., 0.],\n",
       "       [0., 0., 0., 0., 0.],\n",
       "       [0., 0., 0., 0., 0.],\n",
       "       [0., 0., 0., 0., 0.]])"
      ]
     },
     "execution_count": 13,
     "metadata": {},
     "output_type": "execute_result"
    }
   ],
   "source": [
    "n4 = np.zeros((5,5))\n",
    "n4"
   ]
  },
  {
   "cell_type": "markdown",
   "id": "5e6cdc26",
   "metadata": {},
   "source": [
    ">Initializing the array with the same number. For this we use full method"
   ]
  },
  {
   "cell_type": "code",
   "execution_count": 14,
   "id": "7d0c0139",
   "metadata": {
    "scrolled": true
   },
   "outputs": [
    {
     "data": {
      "text/plain": [
       "array([[10, 10, 10, 10],\n",
       "       [10, 10, 10, 10],\n",
       "       [10, 10, 10, 10]])"
      ]
     },
     "execution_count": 14,
     "metadata": {},
     "output_type": "execute_result"
    }
   ],
   "source": [
    "n5 = np.full((3,4),10)       #arguments as the dimension of the array and the number to be initialized with\n",
    "n5"
   ]
  },
  {
   "cell_type": "markdown",
   "id": "4b347f45",
   "metadata": {},
   "source": [
    ">Intializing with random numbers -> random.randint"
   ]
  },
  {
   "cell_type": "code",
   "execution_count": 16,
   "id": "99b67164",
   "metadata": {},
   "outputs": [
    {
     "data": {
      "text/plain": [
       "array([84, 89, 99,  7, 89, 67, 40])"
      ]
     },
     "execution_count": 16,
     "metadata": {},
     "output_type": "execute_result"
    }
   ],
   "source": [
    "n6 = np.random.randint(1,100,7)     #1- 100 is the range of the numbers and 7 is the how many numbers we need\n",
    "n6"
   ]
  },
  {
   "cell_type": "markdown",
   "id": "88727a5f",
   "metadata": {},
   "source": [
    "### Shape of the arrays\n",
    "\n",
    ">Using shape() method we can get the dimension of the arrays and can even reshape them."
   ]
  },
  {
   "cell_type": "code",
   "execution_count": 19,
   "id": "e2746449",
   "metadata": {},
   "outputs": [
    {
     "data": {
      "text/plain": [
       "(3, 4)"
      ]
     },
     "execution_count": 19,
     "metadata": {},
     "output_type": "execute_result"
    }
   ],
   "source": [
    "n5.shape"
   ]
  },
  {
   "cell_type": "code",
   "execution_count": 20,
   "id": "57ea3734",
   "metadata": {
    "scrolled": true
   },
   "outputs": [
    {
     "data": {
      "text/plain": [
       "array([[10, 10, 10],\n",
       "       [10, 10, 10],\n",
       "       [10, 10, 10],\n",
       "       [10, 10, 10]])"
      ]
     },
     "execution_count": 20,
     "metadata": {},
     "output_type": "execute_result"
    }
   ],
   "source": [
    "n5.shape = (4,3)\n",
    "n5"
   ]
  },
  {
   "cell_type": "markdown",
   "id": "50b7385b",
   "metadata": {},
   "source": [
    "### Array intersection and difference"
   ]
  },
  {
   "cell_type": "code",
   "execution_count": 22,
   "id": "a532c0aa",
   "metadata": {},
   "outputs": [],
   "source": [
    "n1 = np.array([10,20,30,40,50,60])\n",
    "n2 = np.array([50, 60,70,80])"
   ]
  },
  {
   "cell_type": "code",
   "execution_count": 23,
   "id": "a80f155f",
   "metadata": {},
   "outputs": [
    {
     "data": {
      "text/plain": [
       "array([50, 60])"
      ]
     },
     "execution_count": 23,
     "metadata": {},
     "output_type": "execute_result"
    }
   ],
   "source": [
    "np.intersect1d(n1,n2)       #gives us the common elements of n1 and n2"
   ]
  },
  {
   "cell_type": "code",
   "execution_count": 24,
   "id": "9e0c3d4f",
   "metadata": {},
   "outputs": [
    {
     "data": {
      "text/plain": [
       "array([10, 20, 30, 40])"
      ]
     },
     "execution_count": 24,
     "metadata": {},
     "output_type": "execute_result"
    }
   ],
   "source": [
    "np.setdiff1d(n1,n2)         #gives the elements unique to n1"
   ]
  },
  {
   "cell_type": "code",
   "execution_count": 25,
   "id": "b9f9bac0",
   "metadata": {
    "scrolled": true
   },
   "outputs": [
    {
     "data": {
      "text/plain": [
       "array([70, 80])"
      ]
     },
     "execution_count": 25,
     "metadata": {},
     "output_type": "execute_result"
    }
   ],
   "source": [
    "np.setdiff1d(n2,n1)         #gives the elements unique to n2"
   ]
  },
  {
   "cell_type": "markdown",
   "id": "bb4af779",
   "metadata": {},
   "source": [
    "### Mathematical operations on arrays\n",
    "\n",
    "Addition of the arrays"
   ]
  },
  {
   "cell_type": "code",
   "execution_count": 35,
   "id": "923d7ddc",
   "metadata": {},
   "outputs": [
    {
     "data": {
      "text/plain": [
       "160"
      ]
     },
     "execution_count": 35,
     "metadata": {},
     "output_type": "execute_result"
    }
   ],
   "source": [
    "n1 = np.array([10,50])\n",
    "n2 = np.array([30,70])\n",
    "np.sum([n1,n2])"
   ]
  },
  {
   "cell_type": "code",
   "execution_count": 36,
   "id": "251f6a03",
   "metadata": {},
   "outputs": [
    {
     "data": {
      "text/plain": [
       "array([ 40, 120])"
      ]
     },
     "execution_count": 36,
     "metadata": {},
     "output_type": "execute_result"
    }
   ],
   "source": [
    "np.sum([n1,n2],axis = 0)    #axis 0 to get sum along the columns"
   ]
  },
  {
   "cell_type": "code",
   "execution_count": 37,
   "id": "309a0094",
   "metadata": {},
   "outputs": [
    {
     "data": {
      "text/plain": [
       "array([ 60, 100])"
      ]
     },
     "execution_count": 37,
     "metadata": {},
     "output_type": "execute_result"
    }
   ],
   "source": [
    "np.sum([n1,n2],axis = 1)    #to add values along the rows"
   ]
  },
  {
   "cell_type": "code",
   "execution_count": 50,
   "id": "539501fc",
   "metadata": {
    "scrolled": true
   },
   "outputs": [
    {
     "data": {
      "text/plain": [
       "array([10, 20, 30])"
      ]
     },
     "execution_count": 50,
     "metadata": {},
     "output_type": "execute_result"
    }
   ],
   "source": [
    "n1 = np.array([10,20,30])     \n",
    "n1 "
   ]
  },
  {
   "cell_type": "code",
   "execution_count": 51,
   "id": "2ebc8214",
   "metadata": {},
   "outputs": [
    {
     "data": {
      "text/plain": [
       "array([11, 21, 31])"
      ]
     },
     "execution_count": 51,
     "metadata": {},
     "output_type": "execute_result"
    }
   ],
   "source": [
    "n1 = n1+1                 #add 1 to all elements of the array. Simmilarly we can perform other operations like -,*,/\n",
    "n1"
   ]
  },
  {
   "cell_type": "markdown",
   "id": "4d251e9d",
   "metadata": {},
   "source": [
    "### Matrices"
   ]
  },
  {
   "cell_type": "code",
   "execution_count": 52,
   "id": "707109d6",
   "metadata": {},
   "outputs": [
    {
     "data": {
      "text/plain": [
       "array([[10, 20],\n",
       "       [20, 30],\n",
       "       [40, 50]])"
      ]
     },
     "execution_count": 52,
     "metadata": {},
     "output_type": "execute_result"
    }
   ],
   "source": [
    "n1 = np.array([[10,20],[20,30],[40,50]])\n",
    "n1"
   ]
  },
  {
   "cell_type": "code",
   "execution_count": 53,
   "id": "5bcfeaaa",
   "metadata": {},
   "outputs": [
    {
     "data": {
      "text/plain": [
       "array([10, 20])"
      ]
     },
     "execution_count": 53,
     "metadata": {},
     "output_type": "execute_result"
    }
   ],
   "source": [
    "n1[0]           #entire 1st row"
   ]
  },
  {
   "cell_type": "code",
   "execution_count": 55,
   "id": "5b39e590",
   "metadata": {},
   "outputs": [
    {
     "data": {
      "text/plain": [
       "array([20, 30, 50])"
      ]
     },
     "execution_count": 55,
     "metadata": {},
     "output_type": "execute_result"
    }
   ],
   "source": [
    "n1[:,1]        #all rows for column2"
   ]
  },
  {
   "cell_type": "code",
   "execution_count": 56,
   "id": "ac7976a0",
   "metadata": {
    "scrolled": true
   },
   "outputs": [
    {
     "data": {
      "text/plain": [
       "array([[10, 20],\n",
       "       [20, 30],\n",
       "       [40, 50]])"
      ]
     },
     "execution_count": 56,
     "metadata": {},
     "output_type": "execute_result"
    }
   ],
   "source": [
    "np.transpose(n1)      #get the transpose of the matrix\n",
    "n1"
   ]
  },
  {
   "cell_type": "markdown",
   "id": "26b239f1",
   "metadata": {},
   "source": [
    "\n",
    ">Matrix multiplication"
   ]
  },
  {
   "cell_type": "code",
   "execution_count": 59,
   "id": "16608801",
   "metadata": {},
   "outputs": [
    {
     "data": {
      "text/plain": [
       "array([[1, 2, 3],\n",
       "       [3, 4, 5]])"
      ]
     },
     "execution_count": 59,
     "metadata": {},
     "output_type": "execute_result"
    }
   ],
   "source": [
    "n2 = np.array([[1,2,3],[3,4,5]])\n",
    "n2"
   ]
  },
  {
   "cell_type": "code",
   "execution_count": 60,
   "id": "d7b7a0ce",
   "metadata": {
    "scrolled": true
   },
   "outputs": [
    {
     "data": {
      "text/plain": [
       "array([[ 70, 100, 130],\n",
       "       [110, 160, 210],\n",
       "       [190, 280, 370]])"
      ]
     },
     "execution_count": 60,
     "metadata": {},
     "output_type": "execute_result"
    }
   ],
   "source": [
    "n1.dot(n2)"
   ]
  },
  {
   "cell_type": "code",
   "execution_count": 61,
   "id": "1f5a6965",
   "metadata": {
    "scrolled": true
   },
   "outputs": [
    {
     "data": {
      "text/plain": [
       "array([[170, 230],\n",
       "       [310, 430]])"
      ]
     },
     "execution_count": 61,
     "metadata": {},
     "output_type": "execute_result"
    }
   ],
   "source": [
    "n2.dot(n1)"
   ]
  },
  {
   "cell_type": "markdown",
   "id": "4ee7407e",
   "metadata": {},
   "source": [
    "Similarly there are many more methods out there to perform various functions on arrays easily and in less time."
   ]
  }
 ],
 "metadata": {
  "kernelspec": {
   "display_name": "Python 3 (ipykernel)",
   "language": "python",
   "name": "python3"
  },
  "language_info": {
   "codemirror_mode": {
    "name": "ipython",
    "version": 3
   },
   "file_extension": ".py",
   "mimetype": "text/x-python",
   "name": "python",
   "nbconvert_exporter": "python",
   "pygments_lexer": "ipython3",
   "version": "3.9.12"
  }
 },
 "nbformat": 4,
 "nbformat_minor": 5
}
