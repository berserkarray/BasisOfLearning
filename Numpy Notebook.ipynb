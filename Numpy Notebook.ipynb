{
 "cells": [
  {
   "cell_type": "markdown",
   "id": "7021de6b",
   "metadata": {},
   "source": [
    "# NumPy\n",
    "NumPy is a Python Library which offers a range of mathematical functions.\n",
    "NumPy has a syntax which is simultaneously compact, powerful and expressive. It allows users to manage data in vectors, matrices and higher dimensional arrays."
   ]
  },
  {
   "cell_type": "markdown",
   "id": "8793bb24",
   "metadata": {},
   "source": [
    "# Creating an Array using NumPy"
   ]
  },
  {
   "cell_type": "code",
   "execution_count": 2,
   "id": "adb1b0d8",
   "metadata": {},
   "outputs": [],
   "source": [
    "import numpy as np #imports numpy"
   ]
  },
  {
   "cell_type": "code",
   "execution_count": 3,
   "id": "91dd7ac5",
   "metadata": {},
   "outputs": [
    {
     "name": "stdout",
     "output_type": "stream",
     "text": [
      "[1 2 3 4]\n",
      "[[ 1  2  3  0]\n",
      " [ 4  5  6 14]\n",
      " [12 13 15 16]\n",
      " [11  7  9 10]]\n"
     ]
    }
   ],
   "source": [
    "x = np.array([1,2,3,4]) #defining 1-D array\n",
    "print(x)\n",
    "y = np.array([[1,2,3,0],[4,5,6,14],[12,13,15,16],[11,7,9,10]]) #defining 2-D array\n",
    "print(y)"
   ]
  },
  {
   "cell_type": "markdown",
   "id": "83438bad",
   "metadata": {},
   "source": [
    "## Functions on Array"
   ]
  },
  {
   "cell_type": "code",
   "execution_count": 4,
   "id": "34856324",
   "metadata": {},
   "outputs": [
    {
     "data": {
      "text/plain": [
       "(4,)"
      ]
     },
     "execution_count": 4,
     "metadata": {},
     "output_type": "execute_result"
    }
   ],
   "source": [
    "x.shape #shape function returns number of rows and colums of an array"
   ]
  },
  {
   "cell_type": "code",
   "execution_count": 5,
   "id": "6ed676e8",
   "metadata": {},
   "outputs": [
    {
     "data": {
      "text/plain": [
       "(4, 4)"
      ]
     },
     "execution_count": 5,
     "metadata": {},
     "output_type": "execute_result"
    }
   ],
   "source": [
    "y.shape"
   ]
  },
  {
   "cell_type": "code",
   "execution_count": 6,
   "id": "7ace46b9",
   "metadata": {},
   "outputs": [
    {
     "data": {
      "text/plain": [
       "dtype('int32')"
      ]
     },
     "execution_count": 6,
     "metadata": {},
     "output_type": "execute_result"
    }
   ],
   "source": [
    "y.dtype #dtype function returns data type of the array"
   ]
  },
  {
   "cell_type": "markdown",
   "id": "673ff55f",
   "metadata": {},
   "source": [
    "#### Function to Acess Elements at Specific Index"
   ]
  },
  {
   "cell_type": "code",
   "execution_count": 7,
   "id": "649c0632",
   "metadata": {},
   "outputs": [
    {
     "data": {
      "text/plain": [
       "5"
      ]
     },
     "execution_count": 7,
     "metadata": {},
     "output_type": "execute_result"
    }
   ],
   "source": [
    "y[1,1]  #gives element at index (1,1) i.e. Row 1 Column 1 in array y"
   ]
  },
  {
   "cell_type": "code",
   "execution_count": 8,
   "id": "8e1507b8",
   "metadata": {},
   "outputs": [
    {
     "data": {
      "text/plain": [
       "array([12, 13, 15, 16])"
      ]
     },
     "execution_count": 8,
     "metadata": {},
     "output_type": "execute_result"
    }
   ],
   "source": [
    "y[2,:] #This will return all elements of row 2 in the form of array"
   ]
  },
  {
   "cell_type": "markdown",
   "id": "07f7f184",
   "metadata": {},
   "source": [
    "#### Intialising arrays using some in-built functions"
   ]
  },
  {
   "cell_type": "code",
   "execution_count": 9,
   "id": "ab2ffdfb",
   "metadata": {},
   "outputs": [
    {
     "name": "stdout",
     "output_type": "stream",
     "text": [
      "[[0. 0. 0. 0.]]\n"
     ]
    }
   ],
   "source": [
    "zeros = np.zeros((1,4)) #This function will generate an array with 1 row and 4 columns with all 0 values.\n",
    "print(zeros)"
   ]
  },
  {
   "cell_type": "code",
   "execution_count": 10,
   "id": "b32c6c10",
   "metadata": {},
   "outputs": [
    {
     "name": "stdout",
     "output_type": "stream",
     "text": [
      "[[1. 1. 1. 1. 1.]\n",
      " [1. 1. 1. 1. 1.]]\n"
     ]
    }
   ],
   "source": [
    "one = np.ones((2,5)) #This function will generate an array with 2 row and 5 columns with all 1 values.\n",
    "print(one)"
   ]
  },
  {
   "cell_type": "code",
   "execution_count": 11,
   "id": "64437759",
   "metadata": {},
   "outputs": [
    {
     "name": "stdout",
     "output_type": "stream",
     "text": [
      "[[0.85191043 0.92657634]\n",
      " [0.80535181 0.92194349]]\n"
     ]
    }
   ],
   "source": [
    "random = np.random.rand(2,2) #This function will generate an array with 2 row and 2 columns all random elements.\n",
    "print(random)"
   ]
  },
  {
   "cell_type": "code",
   "execution_count": 12,
   "id": "1d1842cc",
   "metadata": {},
   "outputs": [
    {
     "name": "stdout",
     "output_type": "stream",
     "text": [
      "[[1. 0. 0.]\n",
      " [0. 1. 0.]\n",
      " [0. 0. 1.]]\n"
     ]
    }
   ],
   "source": [
    "id = np.identity(3) ##This function will generate an Identity Matrix with 3 row and 3 columns.\n",
    "print(id)"
   ]
  },
  {
   "cell_type": "markdown",
   "id": "331733a0",
   "metadata": {},
   "source": [
    "#### Scalar Operations on 2D Matrix"
   ]
  },
  {
   "cell_type": "code",
   "execution_count": 13,
   "id": "678f2f88",
   "metadata": {},
   "outputs": [
    {
     "name": "stdout",
     "output_type": "stream",
     "text": [
      "[[ 3  4  5  2]\n",
      " [ 6  7  8 16]\n",
      " [14 15 17 18]\n",
      " [13  9 11 12]]\n",
      "[[-3 -2 -1 -4]\n",
      " [ 0  1  2 10]\n",
      " [ 8  9 11 12]\n",
      " [ 7  3  5  6]]\n",
      "[[ 3  6  9  0]\n",
      " [12 15 18 42]\n",
      " [36 39 45 48]\n",
      " [33 21 27 30]]\n",
      "[[0.5 1.  1.5 0. ]\n",
      " [2.  2.5 3.  7. ]\n",
      " [6.  6.5 7.5 8. ]\n",
      " [5.5 3.5 4.5 5. ]]\n",
      "[[  1   4   9   0]\n",
      " [ 16  25  36 196]\n",
      " [144 169 225 256]\n",
      " [121  49  81 100]]\n"
     ]
    }
   ],
   "source": [
    "print(y+2)  # perform arithematic operaions on all the values of the matrix\n",
    "print(y-4)\n",
    "print(y*3)\n",
    "print(y/2)\n",
    "print(y**2)"
   ]
  },
  {
   "cell_type": "markdown",
   "id": "273b57e3",
   "metadata": {},
   "source": [
    "#### Matrix Operations"
   ]
  },
  {
   "cell_type": "code",
   "execution_count": 14,
   "id": "7f26f20b",
   "metadata": {},
   "outputs": [
    {
     "name": "stdout",
     "output_type": "stream",
     "text": [
      "[[ 4  8 12]\n",
      " [ 5 10  7]\n",
      " [ 7  9  2]]\n",
      "[[26 20 22]\n",
      " [32 52 68]\n",
      " [14 30 36]]\n"
     ]
    }
   ],
   "source": [
    "s1 = np.array([[1,2,3],[4,6,2],[0,7,1]])\n",
    "s2 = np.array([[3,6,9],[1,4,5],[7,2,1]])\n",
    "\n",
    "print(s1+s2) #performs matrix addition\n",
    "p = np.matmul(s1,s2)\n",
    "print(p) #performs matrix multiplication between s1 and s2"
   ]
  },
  {
   "cell_type": "code",
   "execution_count": 15,
   "id": "96432d4e",
   "metadata": {},
   "outputs": [
    {
     "data": {
      "text/plain": [
       "1"
      ]
     },
     "execution_count": 15,
     "metadata": {},
     "output_type": "execute_result"
    }
   ],
   "source": [
    "np.min(s2) # returns min value in s2"
   ]
  },
  {
   "cell_type": "code",
   "execution_count": 16,
   "id": "e4e2a3b6",
   "metadata": {},
   "outputs": [
    {
     "data": {
      "text/plain": [
       "9"
      ]
     },
     "execution_count": 16,
     "metadata": {},
     "output_type": "execute_result"
    }
   ],
   "source": [
    "np.max(s2) # returns max value in s2"
   ]
  },
  {
   "cell_type": "markdown",
   "id": "d45038dc",
   "metadata": {},
   "source": [
    "#### Concept Of Axis in Arrays.\n",
    "A 1D array has only 1 Axis (Axis 0) along its row.  \n",
    "A 2D array has 2 Axis (Axis 0, Axis 1) Axis 1 along its row and Axis 0 along its columns."
   ]
  },
  {
   "cell_type": "code",
   "execution_count": 17,
   "id": "c279e1d9",
   "metadata": {},
   "outputs": [
    {
     "data": {
      "text/plain": [
       "array([11, 12, 15])"
      ]
     },
     "execution_count": 17,
     "metadata": {},
     "output_type": "execute_result"
    }
   ],
   "source": [
    "np.sum(s2,axis=0)  #To add all elements of a column"
   ]
  },
  {
   "cell_type": "code",
   "execution_count": 18,
   "id": "b4e7b247",
   "metadata": {},
   "outputs": [
    {
     "data": {
      "text/plain": [
       "array([18, 10, 10])"
      ]
     },
     "execution_count": 18,
     "metadata": {},
     "output_type": "execute_result"
    }
   ],
   "source": [
    "np.sum(s2,axis=1) #To add all elements of a row"
   ]
  },
  {
   "cell_type": "markdown",
   "id": "9ef08b34",
   "metadata": {},
   "source": [
    "### Changing shape of an array"
   ]
  },
  {
   "cell_type": "code",
   "execution_count": 19,
   "id": "fcacdaf8",
   "metadata": {},
   "outputs": [
    {
     "name": "stdout",
     "output_type": "stream",
     "text": [
      "[[1]\n",
      " [2]\n",
      " [3]\n",
      " [4]\n",
      " [6]\n",
      " [2]\n",
      " [0]\n",
      " [7]\n",
      " [1]]\n",
      "[[3 6 9]\n",
      " [1 4 5]\n",
      " [7 2 1]]\n"
     ]
    }
   ],
   "source": [
    "w1 = s1\n",
    "print(w1.reshape(9,1)) #reshapes w1 into 9X1 Matrix\n",
    "print(s2)"
   ]
  },
  {
   "cell_type": "markdown",
   "id": "5bcb8dd8",
   "metadata": {},
   "source": [
    "#### Transpose of the Matrix."
   ]
  },
  {
   "cell_type": "code",
   "execution_count": 20,
   "id": "c5e67278",
   "metadata": {},
   "outputs": [
    {
     "data": {
      "text/plain": [
       "array([[1, 4, 0],\n",
       "       [2, 6, 7],\n",
       "       [3, 2, 1]])"
      ]
     },
     "execution_count": 20,
     "metadata": {},
     "output_type": "execute_result"
    }
   ],
   "source": [
    "s1.T"
   ]
  },
  {
   "cell_type": "code",
   "execution_count": null,
   "id": "f81dd554",
   "metadata": {},
   "outputs": [],
   "source": []
  }
 ],
 "metadata": {
  "kernelspec": {
   "display_name": "Python 3 (ipykernel)",
   "language": "python",
   "name": "python3"
  },
  "language_info": {
   "codemirror_mode": {
    "name": "ipython",
    "version": 3
   },
   "file_extension": ".py",
   "mimetype": "text/x-python",
   "name": "python",
   "nbconvert_exporter": "python",
   "pygments_lexer": "ipython3",
   "version": "3.9.12"
  }
 },
 "nbformat": 4,
 "nbformat_minor": 5
}
