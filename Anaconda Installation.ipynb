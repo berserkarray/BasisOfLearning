{
 "cells": [
  {
   "cell_type": "markdown",
   "id": "3b1b10d4",
   "metadata": {},
   "source": [
    "# Anaconda Installation"
   ]
  },
  {
   "cell_type": "markdown",
   "id": "98868c64",
   "metadata": {},
   "source": [
    "### Anaconda is a software which helps people to build software. "
   ]
  },
  {
   "cell_type": "markdown",
   "id": "60f67bbe",
   "metadata": {},
   "source": [
    "### Link to download: https://www.anaconda.com/products/distribution"
   ]
  },
  {
   "cell_type": "markdown",
   "id": "6267a31d",
   "metadata": {},
   "source": [
    "### Select the appropriate version according to your OS and download the exe file"
   ]
  },
  {
   "cell_type": "markdown",
   "id": "a15e6e48",
   "metadata": {},
   "source": [
    "### Now open the exe file and follow the procedure to install Anaconda"
   ]
  },
  {
   "cell_type": "markdown",
   "id": "09fd692e",
   "metadata": {},
   "source": [
    "### To get a brief overview on Anaconda software refer to: https://anaconda.cloud/getting-started-with-anaconda-distribution?source=install"
   ]
  }
 ],
 "metadata": {
  "kernelspec": {
   "display_name": "Python 3 (ipykernel)",
   "language": "python",
   "name": "python3"
  },
  "language_info": {
   "codemirror_mode": {
    "name": "ipython",
    "version": 3
   },
   "file_extension": ".py",
   "mimetype": "text/x-python",
   "name": "python",
   "nbconvert_exporter": "python",
   "pygments_lexer": "ipython3",
   "version": "3.9.12"
  }
 },
 "nbformat": 4,
 "nbformat_minor": 5
}
