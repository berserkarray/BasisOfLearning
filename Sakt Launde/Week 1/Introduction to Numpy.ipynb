{
 "cells": [
  {
   "cell_type": "markdown",
   "id": "8352eee1",
   "metadata": {},
   "source": [
    "# Introduction to Numpy"
   ]
  },
  {
   "cell_type": "markdown",
   "id": "216296dc",
   "metadata": {},
   "source": [
    "Numpy is the core library for scientific computing in Python. It provides a high-performance multidimensional array object, and tools for working with these arrays. To start working with Numpy, We first need to import it."
   ]
  },
  {
   "cell_type": "code",
   "execution_count": 1,
   "id": "0173f5ec",
   "metadata": {},
   "outputs": [],
   "source": [
    "import numpy as np"
   ]
  },
  {
   "cell_type": "markdown",
   "id": "ac69dc8c",
   "metadata": {},
   "source": [
    "Numpy is now imported and we can use it by simply writing \"np\". Here is how to create an array and print it and its shape:-"
   ]
  },
  {
   "cell_type": "code",
   "execution_count": 2,
   "id": "1e4b9323",
   "metadata": {},
   "outputs": [
    {
     "name": "stdout",
     "output_type": "stream",
     "text": [
      "(5,)\n",
      "[1 2 3 4 5]\n"
     ]
    }
   ],
   "source": [
    "a = np.array([1,2,3,4,5])\n",
    "print(a.shape)\n",
    "print(a)"
   ]
  },
  {
   "cell_type": "markdown",
   "id": "67cb88df",
   "metadata": {},
   "source": [
    "We can also create some special arrays by Numpy functions. For example:- "
   ]
  },
  {
   "cell_type": "code",
   "execution_count": 4,
   "id": "a6badc5b",
   "metadata": {},
   "outputs": [
    {
     "name": "stdout",
     "output_type": "stream",
     "text": [
      "[[0. 0.]\n",
      " [0. 0.]]\n",
      "\n",
      "\n",
      "[[1. 1. 1.]\n",
      " [1. 1. 1.]\n",
      " [1. 1. 1.]]\n",
      "\n",
      "\n",
      "[[7 7]]\n",
      "\n",
      "\n",
      "[[1. 0. 0.]\n",
      " [0. 1. 0.]\n",
      " [0. 0. 1.]]\n",
      "\n",
      "\n"
     ]
    }
   ],
   "source": [
    "a = np.zeros((2,2))   # Create an array of all zeros\n",
    "print(a)   \n",
    "print(\"\\n\")\n",
    "\n",
    "b = np.ones((3,3))    # Create an array of all ones\n",
    "print(b)             \n",
    "print(\"\\n\")\n",
    "\n",
    "c = np.full((1,2), 7)  # Create an array of all elements as one number\n",
    "print(c) \n",
    "print(\"\\n\")\n",
    "\n",
    "d = np.eye(3)         # Create a 3x3 identity matrix\n",
    "print(d)    \n",
    "print(\"\\n\")"
   ]
  },
  {
   "cell_type": "markdown",
   "id": "8789e418",
   "metadata": {},
   "source": [
    "Slicing is the way to access sub-parts of our data structures. Here is how to slice an array:-"
   ]
  },
  {
   "cell_type": "code",
   "execution_count": 6,
   "id": "a69a0d5f",
   "metadata": {},
   "outputs": [
    {
     "name": "stdout",
     "output_type": "stream",
     "text": [
      "[[2 3]]\n"
     ]
    }
   ],
   "source": [
    "a = np.array([[1,2,3,4], [5,6,7,8]])\n",
    "b = a[:1, 1:3]                           #Here we create an array b with 1st row and all columns between 1st and 4th columns of a\n",
    "print(b)"
   ]
  },
  {
   "cell_type": "markdown",
   "id": "a1f1a73b",
   "metadata": {},
   "source": [
    "We can also perform various mathematical operations,which are quite handy, using Numpy. Here is how to do it:-"
   ]
  },
  {
   "cell_type": "code",
   "execution_count": 8,
   "id": "1545afdb",
   "metadata": {},
   "outputs": [
    {
     "name": "stdout",
     "output_type": "stream",
     "text": [
      "[[ 6  8]\n",
      " [10 12]]\n",
      "\n",
      "\n",
      "[[-4 -4]\n",
      " [-4 -4]]\n",
      "\n",
      "\n",
      "[[ 5 12]\n",
      " [21 32]]\n",
      "\n",
      "\n",
      "[[0.2        0.33333333]\n",
      " [0.42857143 0.5       ]]\n",
      "\n",
      "\n",
      "[[1.         1.41421356]\n",
      " [1.73205081 2.        ]]\n",
      "\n",
      "\n"
     ]
    }
   ],
   "source": [
    "x = np.array([[1,2],[3,4]])\n",
    "y = np.array([[5,6],[7,8]])\n",
    "          \n",
    "print(np.add(x, y))          # Elementwise sum;\n",
    "print(\"\\n\")\n",
    "\n",
    "print(np.subtract(x, y))     # Elementwise difference\n",
    "print(\"\\n\")\n",
    "\n",
    "print(np.multiply(x, y))     # Elementwise product\n",
    "print(\"\\n\")\n",
    "\n",
    "print(np.divide(x, y))       # Elementwise division\n",
    "print(\"\\n\")\n",
    "\n",
    "print(np.sqrt(x))            # Elementwise square root\n",
    "print(\"\\n\")"
   ]
  },
  {
   "cell_type": "markdown",
   "id": "215624f0",
   "metadata": {},
   "source": [
    "Various Matrix operations can also be performed through Numpy in the following way:-"
   ]
  },
  {
   "cell_type": "code",
   "execution_count": 17,
   "id": "51eb1320",
   "metadata": {},
   "outputs": [
    {
     "name": "stdout",
     "output_type": "stream",
     "text": [
      "11\n",
      "\n",
      "\n",
      "[[19 22]\n",
      " [43 50]]\n",
      "\n",
      "\n",
      "[[1 3]\n",
      " [2 4]]\n",
      "\n",
      "\n",
      "10\n",
      "\n",
      "\n",
      "[4 6]\n",
      "\n",
      "\n",
      "[3 7]\n",
      "\n",
      "\n"
     ]
    }
   ],
   "source": [
    "x = np.array([1,2])\n",
    "y = np.array([3,4])\n",
    "\n",
    "print(np.dot(x, y))          #Prints dot product of x and y\n",
    "print(\"\\n\")\n",
    "              \n",
    "a = np.array([[1,2],[3,4]])\n",
    "b = np.array([[5,6],[7,8]])\n",
    "              \n",
    "print(np.matmul(a, b))       #Prints the matrix product of a and b\n",
    "print(\"\\n\")\n",
    "\n",
    "print(np.transpose(a))               #Prints transpose of a\n",
    "print(\"\\n\")\n",
    "\n",
    "print(np.sum(a))  #Prints sum of all elements; prints \"10\"\n",
    "print(\"\\n\")\n",
    "\n",
    "print(np.sum(a, axis=0))  #Prints sum of each column; prints \"[4 6]\"\n",
    "print(\"\\n\")\n",
    "\n",
    "print(np.sum(a, axis=1))  #Prints sum of each row\n",
    "print(\"\\n\")\n"
   ]
  },
  {
   "cell_type": "markdown",
   "id": "d9b1ae0b",
   "metadata": {},
   "source": [
    "As we have seen Numpy is quite useful as it provides easier wways to do computations. Thus, it is quite popularly used in data science, machine learning, scientific computing, etc.To learn more about Numpy, feel free to go through its documentation at https://numpy.org/doc/."
   ]
  },
  {
   "cell_type": "raw",
   "id": "959266c1",
   "metadata": {},
   "source": [
    "Sources:-\n",
    "1.https://numpy.org/doc/.\n",
    "2.https://cs231n.github.io/python-numpy-tutorial/#numpy/"
   ]
  }
 ],
 "metadata": {
  "kernelspec": {
   "display_name": "Python 3 (ipykernel)",
   "language": "python",
   "name": "python3"
  },
  "language_info": {
   "codemirror_mode": {
    "name": "ipython",
    "version": 3
   },
   "file_extension": ".py",
   "mimetype": "text/x-python",
   "name": "python",
   "nbconvert_exporter": "python",
   "pygments_lexer": "ipython3",
   "version": "3.9.12"
  }
 },
 "nbformat": 4,
 "nbformat_minor": 5
}
