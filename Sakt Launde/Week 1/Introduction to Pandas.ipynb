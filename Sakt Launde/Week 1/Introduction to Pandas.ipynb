{
 "cells": [
  {
   "cell_type": "markdown",
   "id": "89b70b4d",
   "metadata": {},
   "source": [
    "# Introduction to Pandas"
   ]
  },
  {
   "cell_type": "markdown",
   "id": "5c54e2be",
   "metadata": {},
   "source": [
    "Pandas is an open-source library that is made mainly for working with relational or labeled data both easily and intuitively. It provides various data structures and operations for manipulating numerical data and time series. This library is built on top of the NumPy library. Pandas is fast and it has high performance & productivity for users.\n",
    "\n",
    "Before using Pandas we first need to import it as follows:-"
   ]
  },
  {
   "cell_type": "code",
   "execution_count": 2,
   "id": "6329d536",
   "metadata": {},
   "outputs": [],
   "source": [
    "import pandas as pd"
   ]
  },
  {
   "cell_type": "markdown",
   "id": "45f8af2f",
   "metadata": {},
   "source": [
    "Pandas is ow imported and we can call its functions by writin \"pd\".\n",
    "\n",
    "Pandas generally provide two data structures for manipulating data, They are: \n",
    "\n",
    "1.Series\n",
    "2.DataFrame\n"
   ]
  },
  {
   "cell_type": "markdown",
   "id": "4c708604",
   "metadata": {},
   "source": [
    "Series:\n",
    "\n",
    "Pandas Series is a one-dimensional labelled array capable of holding data of any type (integer, string, float, python objects, etc.). The axis labels are collectively called indexes. Pandas Series is nothing but a column in an excel sheet. Pandas Series can be created from the lists, dictionary, and from a scalar value etc. Here is how to create a Pandas Series:-"
   ]
  },
  {
   "cell_type": "code",
   "execution_count": 3,
   "id": "b9223da0",
   "metadata": {},
   "outputs": [
    {
     "name": "stdout",
     "output_type": "stream",
     "text": [
      "0    1\n",
      "1    2\n",
      "2    3\n",
      "3    4\n",
      "4    5\n",
      "dtype: int32\n"
     ]
    }
   ],
   "source": [
    "import numpy as np         #We need to import Numpy to use arrays\n",
    "\n",
    "data = np.array([1,2,3,4,5])\n",
    "series=pd.Series(data)\n",
    "print(series)"
   ]
  },
  {
   "cell_type": "markdown",
   "id": "6d3cc008",
   "metadata": {},
   "source": [
    "DataFrame:\n",
    "\n",
    "A Data frame is a two-dimensional data structure, i.e., data is aligned in a tabular fashion in rows and columns. Pandas DataFrame consists of three principal components, the data, rows, and columns. Pandas DataFrame can be created from the lists, dictionary, and from a list of dictionaries, etc. Here is how to create a Pandas DataFrame:-"
   ]
  },
  {
   "cell_type": "code",
   "execution_count": 4,
   "id": "bd879771",
   "metadata": {},
   "outputs": [
    {
     "name": "stdout",
     "output_type": "stream",
     "text": [
      "   0\n",
      "0  a\n",
      "1  b\n",
      "2  c\n",
      "3  d\n",
      "4  e\n"
     ]
    }
   ],
   "source": [
    "list = ['a','b','c','d','e']\n",
    "   \n",
    "df = pd.DataFrame(list)\n",
    "print(df)"
   ]
  },
  {
   "cell_type": "markdown",
   "id": "82b440b8",
   "metadata": {},
   "source": [
    "Here are some ways to work with rows and columns in Pandas:-"
   ]
  },
  {
   "cell_type": "markdown",
   "id": "f5773e49",
   "metadata": {},
   "source": [
    "Selecting Columns:"
   ]
  },
  {
   "cell_type": "code",
   "execution_count": 33,
   "id": "feaa28e9",
   "metadata": {},
   "outputs": [
    {
     "name": "stdout",
     "output_type": "stream",
     "text": [
      "  Alphabet       Type\n",
      "0        a      Vowel\n",
      "1        b  Consonant\n",
      "2        c  Consonant\n",
      "3        d  Consonant\n",
      "4        e      Vowel\n",
      "5        f  Consonant\n"
     ]
    }
   ],
   "source": [
    "data = {'Alphabet':['a', 'b', 'c', 'd','e','f'],\n",
    "        'Number':['1', '2', '3', '4', '5', '6'],\n",
    "        'Type':['Vowel', 'Consonant', 'Consonant', 'Consonant', 'Vowel', 'Consonant']\n",
    "       }\n",
    " \n",
    "# Convert the dictionary into DataFrame \n",
    "df = pd.DataFrame(data,columns=['Alphabet','Number','Type'])\n",
    " \n",
    "# select two columns\n",
    "print(df[['Alphabet', 'Type']])"
   ]
  },
  {
   "cell_type": "markdown",
   "id": "d406dafe",
   "metadata": {},
   "source": [
    "Selecting Rows:\n",
    "DataFrame.loc[] method is used to retrieve rows from Pandas DataFrame. Rows can also be selected by passing integer location to an iloc[] function."
   ]
  },
  {
   "cell_type": "code",
   "execution_count": 34,
   "id": "7bce815a",
   "metadata": {},
   "outputs": [
    {
     "name": "stdout",
     "output_type": "stream",
     "text": [
      "Alphabet        a\n",
      "Type        Vowel\n",
      "Name: 1, dtype: object \n",
      " Alphabet            d\n",
      "Type        Consonant\n",
      "Name: 4, dtype: object\n"
     ]
    }
   ],
   "source": [
    "df=df.set_index('Number')\n",
    "first= df.loc['1']      #Selecting the 1nd and 4th alphabet\n",
    "fourth= df.loc['4']\n",
    "\n",
    "print(first, \"\\n\", fourth)\n",
    "\n",
    "row2 = df.iloc[3]   # retrieving rows by iloc method"
   ]
  },
  {
   "cell_type": "markdown",
   "id": "9e2471e2",
   "metadata": {},
   "source": [
    "Iterating over rows :\n",
    "In order to iterate over rows, we can use three function iteritems(), iterrows(), itertuples(). Here we use iterrows:"
   ]
  },
  {
   "cell_type": "code",
   "execution_count": 25,
   "id": "440055e6",
   "metadata": {},
   "outputs": [
    {
     "name": "stdout",
     "output_type": "stream",
     "text": [
      "1 Alphabet        a\n",
      "Type        Vowel\n",
      "Name: 1, dtype: object\n",
      "2 Alphabet            b\n",
      "Type        Consonant\n",
      "Name: 2, dtype: object\n",
      "3 Alphabet            c\n",
      "Type        Consonant\n",
      "Name: 3, dtype: object\n",
      "4 Alphabet            d\n",
      "Type        Consonant\n",
      "Name: 4, dtype: object\n",
      "5 Alphabet        e\n",
      "Type        Vowel\n",
      "Name: 5, dtype: object\n",
      "6 Alphabet            f\n",
      "Type        Consonant\n",
      "Name: 6, dtype: object\n"
     ]
    }
   ],
   "source": [
    "for i, j in df.iterrows():\n",
    "    print(i, j)"
   ]
  },
  {
   "cell_type": "markdown",
   "id": "e74c7d59",
   "metadata": {},
   "source": [
    "Iterating over Columns :\n",
    "In order to iterate over columns, we need to create a list of dataframe columns and then iterating through that list to pull out the dataframe columns."
   ]
  },
  {
   "cell_type": "code",
   "execution_count": 35,
   "id": "d03f6dfd",
   "metadata": {},
   "outputs": [
    {
     "name": "stdout",
     "output_type": "stream",
     "text": [
      "['Alphabet', 'Type']\n",
      "b\n",
      "Consonant\n"
     ]
    }
   ],
   "source": [
    "# creating a list of dataframe columns\n",
    "columns = df.columns.values.tolist()\n",
    "\n",
    "for i in columns:\n",
    " \n",
    "    # printing the second element of the column\n",
    "    print (df[i][1])"
   ]
  },
  {
   "cell_type": "markdown",
   "id": "9267a24f",
   "metadata": {},
   "source": [
    "Now we have seen how useful Pandas is while working with DataFrames. To learn more about Pandas, feel free to go through its documentation at https://pandas.pydata.org/docs/."
   ]
  },
  {
   "cell_type": "raw",
   "id": "30bfe798",
   "metadata": {},
   "source": [
    "Sources:-\n",
    "1.https://pandas.pydata.org/docs/\n",
    "2.https://www.geeksforgeeks.org/python-programming-language/?ref=shm"
   ]
  }
 ],
 "metadata": {
  "kernelspec": {
   "display_name": "Python 3 (ipykernel)",
   "language": "python",
   "name": "python3"
  },
  "language_info": {
   "codemirror_mode": {
    "name": "ipython",
    "version": 3
   },
   "file_extension": ".py",
   "mimetype": "text/x-python",
   "name": "python",
   "nbconvert_exporter": "python",
   "pygments_lexer": "ipython3",
   "version": "3.9.12"
  }
 },
 "nbformat": 4,
 "nbformat_minor": 5
}
