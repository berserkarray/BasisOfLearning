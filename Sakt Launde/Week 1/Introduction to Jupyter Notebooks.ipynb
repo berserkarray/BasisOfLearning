{
 "cells": [
  {
   "cell_type": "markdown",
   "id": "217c9e16",
   "metadata": {},
   "source": [
    "# Introduction to Jupyter Notebooks\n"
   ]
  },
  {
   "cell_type": "markdown",
   "id": "bf2c2565",
   "metadata": {},
   "source": [
    "Jupyter Notebooks provide environment to create and work on python projects. They are saved as .ipynb files. In a Jupyter Notebook we can have multiple cells for different purposes. For example:- Code, Markdown, Heading, etc. We can also choose to run an individual code cell. Jupyter Notebooks make our work very easy. Here is how to use them:"
   ]
  },
  {
   "cell_type": "markdown",
   "id": "7cd74f0b",
   "metadata": {},
   "source": [
    "Opening Jupyter Notebooks and creating a Notebook file:\n",
    "\n",
    "1. Open Anaconda Navigator and select Jupyter Notebooks.\n",
    "\n",
    "2. Now to go to the folder where you want to create the notebook.\n",
    "\n",
    "3. Now click on \"New\" and select Python 3(ipykernel)\n",
    "\n",
    "4. An unnamed Notbook file will be created at the desired location and now, you can work on this notebook in Jupyter."
   ]
  },
  {
   "cell_type": "markdown",
   "id": "3c629acc",
   "metadata": {},
   "source": [
    "Adding a cell to the Notebook:\n",
    "\n",
    "1. Click on \"Insert\" and select either \"Insert Cell Above\" or \"Insert Cell Below\" as required.\n",
    "\n",
    "2. A blank cell will be created.\n",
    "\n",
    "3. Now select the cell type from the dropdown on right of \"Run\" tab.\n",
    "\n",
    "4. The cell type will change to the desired type."
   ]
  },
  {
   "cell_type": "markdown",
   "id": "f1628757",
   "metadata": {},
   "source": [
    "Running a code cell:\n",
    "\n",
    "1. Select the cell.\n",
    "\n",
    "2. Click on \"Run\".\n",
    "\n",
    "3. The code written in the cell will be run and output will be printed below the code box in the cell.\n",
    "\n",
    "You can try it out with the below cell."
   ]
  },
  {
   "cell_type": "code",
   "execution_count": 1,
   "id": "2c5fa7ca",
   "metadata": {},
   "outputs": [
    {
     "name": "stdout",
     "output_type": "stream",
     "text": [
      "Hello Jupyter Notebooks!!!\n"
     ]
    }
   ],
   "source": [
    "print(\"Hello Jupyter Notebooks!!!\")"
   ]
  }
 ],
 "metadata": {
  "kernelspec": {
   "display_name": "Python 3 (ipykernel)",
   "language": "python",
   "name": "python3"
  },
  "language_info": {
   "codemirror_mode": {
    "name": "ipython",
    "version": 3
   },
   "file_extension": ".py",
   "mimetype": "text/x-python",
   "name": "python",
   "nbconvert_exporter": "python",
   "pygments_lexer": "ipython3",
   "version": "3.9.12"
  }
 },
 "nbformat": 4,
 "nbformat_minor": 5
}
