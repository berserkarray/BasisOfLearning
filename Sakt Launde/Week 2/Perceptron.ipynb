{
 "cells": [
  {
   "cell_type": "markdown",
   "id": "01f5bcff",
   "metadata": {},
   "source": [
    "# Perceptron"
   ]
  },
  {
   "cell_type": "markdown",
   "id": "889b6401",
   "metadata": {},
   "source": [
    "# Import Libraries"
   ]
  },
  {
   "cell_type": "code",
   "execution_count": 1,
   "id": "866901e0",
   "metadata": {},
   "outputs": [],
   "source": [
    "import numpy as np\n",
    "import pandas as pd"
   ]
  },
  {
   "cell_type": "markdown",
   "id": "87e44ab1",
   "metadata": {},
   "source": [
    "# Sigmoid Function"
   ]
  },
  {
   "cell_type": "code",
   "execution_count": 2,
   "id": "183d32c5",
   "metadata": {},
   "outputs": [],
   "source": [
    "def SigmoidFunction(x):\n",
    "    y = 1/(1+np.exp(x))\n",
    "    return y"
   ]
  },
  {
   "cell_type": "markdown",
   "id": "23f41f4b",
   "metadata": {},
   "source": [
    "# Setting Up Inputs"
   ]
  },
  {
   "cell_type": "code",
   "execution_count": 28,
   "id": "d03cf17c",
   "metadata": {},
   "outputs": [],
   "source": [
    "def getInput(inputs):\n",
    "        for i in range(0,3):\n",
    "            element=float(input())\n",
    "            inputs[0,i]=element          \n",
    "        return inputs\n",
    "def createWeights():\n",
    "        weights=np.random.rand(3)\n",
    "        return weights"
   ]
  },
  {
   "cell_type": "markdown",
   "id": "58d09403",
   "metadata": {},
   "source": [
    "# Defining a Perceptron"
   ]
  },
  {
   "cell_type": "code",
   "execution_count": 35,
   "id": "c6d16f57",
   "metadata": {},
   "outputs": [],
   "source": [
    "class Perceptron:\n",
    "    def createWeights():\n",
    "        weights=np.random.random((3,1))\n",
    "        return weights\n",
    "        \n",
    "    def __init__(self):\n",
    "        self.inputs=np.empty((1,3))\n",
    "        self.inputs=getInput(self.inputs)\n",
    "        self.weights=createWeights()\n",
    "        self.bias=0.02\n",
    "        self.activation=SigmoidFunction(np.dot(self.inputs,self.weights))\n",
    "        self.output=self.activation - self.bias\n",
    "        return None\n",
    "    pass"
   ]
  },
  {
   "cell_type": "markdown",
   "id": "7e677561",
   "metadata": {},
   "source": [
    "# Testing Perceptron With Random Inputs"
   ]
  },
  {
   "cell_type": "code",
   "execution_count": null,
   "id": "d6686ea1",
   "metadata": {},
   "outputs": [],
   "source": [
    "P=Perceptron()\n",
    "print(P.inputs)\n",
    "print(P.weights)\n",
    "print(P.activation)\n",
    "print(P.output)\n"
   ]
  },
  {
   "cell_type": "code",
   "execution_count": null,
   "id": "699f94a5",
   "metadata": {},
   "outputs": [],
   "source": []
  }
 ],
 "metadata": {
  "kernelspec": {
   "display_name": "Python 3 (ipykernel)",
   "language": "python",
   "name": "python3"
  },
  "language_info": {
   "codemirror_mode": {
    "name": "ipython",
    "version": 3
   },
   "file_extension": ".py",
   "mimetype": "text/x-python",
   "name": "python",
   "nbconvert_exporter": "python",
   "pygments_lexer": "ipython3",
   "version": "3.9.12"
  }
 },
 "nbformat": 4,
 "nbformat_minor": 5
}
