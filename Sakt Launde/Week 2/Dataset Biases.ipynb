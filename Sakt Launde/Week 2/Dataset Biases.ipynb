{
 "cells": [
  {
   "cell_type": "markdown",
   "id": "d6a8379e",
   "metadata": {},
   "source": [
    "# Introduction"
   ]
  },
  {
   "cell_type": "markdown",
   "id": "43b5acbc",
   "metadata": {},
   "source": [
    "Data bias is a type of error in which certain elements of a dataset are more heavily weighted or represented than others .A biased dataset does not accurately represent a model's use case,resulting in skewed outcomes.low accuracy levels,and analytical errors."
   ]
  },
  {
   "cell_type": "markdown",
   "id": "7d2143d9",
   "metadata": {},
   "source": [
    "# Different types of Biases"
   ]
  },
  {
   "cell_type": "markdown",
   "id": "0cd973c0",
   "metadata": {},
   "source": [
    "### Confirmation/Observer Bias"
   ]
  },
  {
   "cell_type": "markdown",
   "id": "db80455a",
   "metadata": {},
   "source": [
    "This bias is created when an oberver sees what he/she wants or expects to see .This can happen subconsciously through biases in how we search for,interpret,or recall information,or consciously, when we decide to cherry pick, by focusing on information that supports our arguments."
   ]
  },
  {
   "cell_type": "markdown",
   "id": "80a74140",
   "metadata": {},
   "source": [
    "#### How to avoid?"
   ]
  },
  {
   "cell_type": "markdown",
   "id": "0e750678",
   "metadata": {},
   "source": [
    " - Seek contrary opinions, even if those opinions may seem uncomfortable to you at first. Try to understand the rationale behind the contrarian opinions."
   ]
  },
  {
   "cell_type": "markdown",
   "id": "0e5f2467",
   "metadata": {},
   "source": [
    " - Look for multiple sources of information rather than focussing on one source."
   ]
  },
  {
   "cell_type": "markdown",
   "id": "b9e4334c",
   "metadata": {},
   "source": [
    " - It might be a good ideda to record your ideologies on the subject beforehand . So you could see if they have influenced the findingvs."
   ]
  },
  {
   "cell_type": "markdown",
   "id": "8a330d58",
   "metadata": {},
   "source": [
    "### Sampling/Selection/Exclusion/Representation Bias "
   ]
  },
  {
   "cell_type": "markdown",
   "id": "d2de1def",
   "metadata": {},
   "source": [
    "Selection Bias is introduced when the dataset is not completely randomised , hence failing to ensure that the sample obtained is representative of the population intended to be analyzed."
   ]
  },
  {
   "cell_type": "markdown",
   "id": "9b2f8eb3",
   "metadata": {},
   "source": [
    "#### How to avoid?"
   ]
  },
  {
   "cell_type": "markdown",
   "id": "4d666d04",
   "metadata": {},
   "source": [
    " - Use randomization to ensure you have a representative sample rather than a convenient one."
   ]
  },
  {
   "cell_type": "markdown",
   "id": "7ad09f9f",
   "metadata": {},
   "source": [
    " - To never erase data thinking of it as unsignificant."
   ]
  },
  {
   "cell_type": "markdown",
   "id": "6f52e043",
   "metadata": {},
   "source": [
    "### Measurement/Detection Bias"
   ]
  },
  {
   "cell_type": "markdown",
   "id": "1083d66f",
   "metadata": {},
   "source": [
    "Measurement bias refers to any systematic or non-random error that occurs in the collection of data in a study."
   ]
  },
  {
   "cell_type": "markdown",
   "id": "0fd65180",
   "metadata": {},
   "source": [
    "#### How to avoid?"
   ]
  },
  {
   "cell_type": "markdown",
   "id": "b301f82f",
   "metadata": {},
   "source": [
    " - Use to proper tools/instruments in noting the data"
   ]
  },
  {
   "cell_type": "markdown",
   "id": "feaf61d6",
   "metadata": {},
   "source": [
    "### Aggregation bias"
   ]
  },
  {
   "cell_type": "markdown",
   "id": "adf375bc",
   "metadata": {},
   "source": [
    "Aggregation bias occurs when groups are inappropriately combined, resulting in a model that does not perform well for any group or only performs well for the majority group. "
   ]
  },
  {
   "cell_type": "markdown",
   "id": "6f891867",
   "metadata": {},
   "source": [
    "#### For eg."
   ]
  },
  {
   "cell_type": "markdown",
   "id": "ccf018d5",
   "metadata": {},
   "source": [
    " - You might have data showing that inner city students tend to perform poorly on standardized tests. That doesn’t mean any one individual will perform poorly."
   ]
  },
  {
   "cell_type": "markdown",
   "id": "eb1b9965",
   "metadata": {},
   "source": [
    "#### How to avoid?"
   ]
  },
  {
   "cell_type": "markdown",
   "id": "d971d244",
   "metadata": {},
   "source": [
    " - One need to design their studies at the appropriate unit of analysis."
   ]
  },
  {
   "cell_type": "markdown",
   "id": "a4b9243e",
   "metadata": {},
   "source": [
    "### Deployment Bias"
   ]
  },
  {
   "cell_type": "markdown",
   "id": "d62be2e3",
   "metadata": {},
   "source": [
    "This bias occurs when what the model is intended to solve is different from what it is used to solve. When the users don't use the model the way it is intended , there is no guarantee that the model will perform well."
   ]
  },
  {
   "cell_type": "markdown",
   "id": "f2657291",
   "metadata": {},
   "source": [
    "#### For eg."
   ]
  },
  {
   "cell_type": "markdown",
   "id": "e4ec9ea3",
   "metadata": {},
   "source": [
    " - The criminal justice system uses tools to predict the likelihood that a convicted criminal will relapse into criminal behavior. The predictions are not designed for judges when deciding appropriate punishments at the time of sentencing."
   ]
  },
  {
   "cell_type": "markdown",
   "id": "05fbafdb",
   "metadata": {},
   "source": [
    "### Recall Bias"
   ]
  },
  {
   "cell_type": "markdown",
   "id": "79ca5f4f",
   "metadata": {},
   "source": [
    "This kind of measurement bias, and is common at the labeling stage of a project. Recall bias arises when you label similar types of data inconsistently."
   ]
  },
  {
   "cell_type": "markdown",
   "id": "475d83b4",
   "metadata": {},
   "source": [
    "### Outlier Bias"
   ]
  },
  {
   "cell_type": "markdown",
   "id": "d91737f7",
   "metadata": {},
   "source": [
    "Some data is convenient to visualize as an average, but this simple operation hides the effect of outliers and anomalies, and skews our observations."
   ]
  },
  {
   "cell_type": "markdown",
   "id": "0d9fe040",
   "metadata": {},
   "source": [
    "#### For eg."
   ]
  },
  {
   "cell_type": "markdown",
   "id": "c8c91ddb",
   "metadata": {},
   "source": [
    "A start-up wants to be sure that their marketing site feels quick and responsive. They decide to track their average latency time to make sure that their site continues to load quickly. After a few months of roughly consistent average latency values, they start to see a decline in engagement on some of their most important pages. When they investigate further, they realize that the latency on those pages has skyrocketed. Their average latency time site-wide continued to paint a rosy image, because those pages were an outlier amongst many other otherwise well-performing pages."
   ]
  },
  {
   "cell_type": "markdown",
   "id": "c3d307b9",
   "metadata": {},
   "source": [
    "Sources:\n",
    " - https://www.metabase.com/blog/6-most-common-type-of-data-bias-in-data-analysis\n",
    " - https://www.miraeassetmf.co.in/knowledge-center/confirmation-bias\n",
    " - https://ori.hhs.gov/education/products/niu_authorship/mistakes/09mistake-a.htm\n",
    " - https://www.kaggle.com/code/alexisbcook/identifying-bias-in-ai/tutorial\n",
    " - https://www.telusinternational.com/articles/7-types-of-data-bias-in-machine-learning\n",
    " - https://www.bmj.com/about-bmj/resources-readers/publications/epidemiology-uninitiated/4-measurement-error-and-bias\n",
    " - https://www.google.com/"
   ]
  },
  {
   "cell_type": "markdown",
   "id": "896a7ffb",
   "metadata": {},
   "source": [
    "##### - by team Sakt Launde"
   ]
  },
  {
   "cell_type": "code",
   "execution_count": null,
   "id": "84871045",
   "metadata": {},
   "outputs": [],
   "source": [
    "Written by\n",
    "Priyanshu Meena\n",
    "Aditya Yadav"
   ]
  }
 ],
 "metadata": {
  "kernelspec": {
   "display_name": "Python 3 (ipykernel)",
   "language": "python",
   "name": "python3"
  },
  "language_info": {
   "codemirror_mode": {
    "name": "ipython",
    "version": 3
   },
   "file_extension": ".py",
   "mimetype": "text/x-python",
   "name": "python",
   "nbconvert_exporter": "python",
   "pygments_lexer": "ipython3",
   "version": "3.9.12"
  }
 },
 "nbformat": 4,
 "nbformat_minor": 5
}
