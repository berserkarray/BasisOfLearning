{
 "cells": [
  {
   "cell_type": "markdown",
   "id": "c3fa0c1e",
   "metadata": {},
   "source": [
    "# Jupyter Notebooks"
   ]
  },
  {
   "cell_type": "markdown",
   "id": "a8713ffc",
   "metadata": {},
   "source": [
    "## What is it?"
   ]
  },
  {
   "cell_type": "markdown",
   "id": "3bd10715",
   "metadata": {},
   "source": [
    "### It has many applications in software development. For example, we can run Python in them."
   ]
  },
  {
   "cell_type": "markdown",
   "id": "0605415d",
   "metadata": {},
   "source": [
    "## How to open it?"
   ]
  },
  {
   "cell_type": "markdown",
   "id": "b130ee2f",
   "metadata": {},
   "source": [
    "### 1) Open Anaconda Navigator by typing \"Anaconda Navigator\" on the search panel at the bottom left side of your screen"
   ]
  },
  {
   "cell_type": "markdown",
   "id": "da37d60b",
   "metadata": {},
   "source": [
    "### 2) Open Jupyter Notebooks by clicking on its icon present on the right side of window that opens"
   ]
  },
  {
   "cell_type": "markdown",
   "id": "c5d9a96d",
   "metadata": {},
   "source": [
    "## How to use it?"
   ]
  },
  {
   "cell_type": "markdown",
   "id": "f6d786b4",
   "metadata": {},
   "source": [
    "### The best way to explore it is by clicking on the \"User Interface Tour\" under the help tab on the top-center of you screen. In this you will be introduced to each and every aspect of Jupyter Notebooks"
   ]
  }
 ],
 "metadata": {
  "kernelspec": {
   "display_name": "Python 3 (ipykernel)",
   "language": "python",
   "name": "python3"
  },
  "language_info": {
   "codemirror_mode": {
    "name": "ipython",
    "version": 3
   },
   "file_extension": ".py",
   "mimetype": "text/x-python",
   "name": "python",
   "nbconvert_exporter": "python",
   "pygments_lexer": "ipython3",
   "version": "3.9.12"
  }
 },
 "nbformat": 4,
 "nbformat_minor": 5
}
