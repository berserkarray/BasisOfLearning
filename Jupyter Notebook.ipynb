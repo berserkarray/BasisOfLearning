{
 "cells": [
  {
   "cell_type": "markdown",
   "id": "5e222e60",
   "metadata": {},
   "source": [
    "# How to Install Jupyter Notebook?\n",
    "* open command prompt.\n",
    "* type **pip install jupyter**  \n",
    "This will install Jupyter in the system."
   ]
  },
  {
   "cell_type": "markdown",
   "id": "780f90dd",
   "metadata": {},
   "source": [
    "# Creating a Notebook\n",
    "In command prompt type **jupyter notebook**.  This will open jupyter notebook in the browser.  \n",
    "# Creating a Notebook\n",
    "* Click on the New button (upper right).\n",
    "* It will open up a list of choices. Choose the version of python you want to create the notebook in.\n",
    "* It will open a new Jupyter Notebook in the browser.\n"
   ]
  },
  {
   "cell_type": "markdown",
   "id": "c442f20a",
   "metadata": {},
   "source": [
    "# Cells \n",
    "cells in jupyter notebook are used to excute chuks of code by default but we can cahneg the celltype to markdown or raw NB converter according to our need. These cells will execute only the code written in them on clicking on Run button in the taskbar or pressing **Shift + Enter**. *for example:*"
   ]
  },
  {
   "cell_type": "code",
   "execution_count": 2,
   "id": "e8c00aa2",
   "metadata": {},
   "outputs": [
    {
     "name": "stdout",
     "output_type": "stream",
     "text": [
      "Basis Of Learning\n"
     ]
    }
   ],
   "source": [
    "print(\"Basis Of Learning\")"
   ]
  },
  {
   "cell_type": "markdown",
   "id": "a0683d7d",
   "metadata": {},
   "source": [
    "These Cells get excuted in a specific sequence whic is usually mentioned in front of them. We can change the sequence in which they will be executed, Add as many ceels as required and Delete cells."
   ]
  }
 ],
 "metadata": {
  "kernelspec": {
   "display_name": "Python 3 (ipykernel)",
   "language": "python",
   "name": "python3"
  },
  "language_info": {
   "codemirror_mode": {
    "name": "ipython",
    "version": 3
   },
   "file_extension": ".py",
   "mimetype": "text/x-python",
   "name": "python",
   "nbconvert_exporter": "python",
   "pygments_lexer": "ipython3",
   "version": "3.9.12"
  }
 },
 "nbformat": 4,
 "nbformat_minor": 5
}
