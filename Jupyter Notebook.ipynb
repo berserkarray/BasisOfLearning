{
 "cells": [
  {
   "cell_type": "markdown",
   "id": "57f04022",
   "metadata": {},
   "source": [
    "# Jupyter Notebook\n",
    "\n",
    "## Overview\n",
    "Jupyter Notebook is a widely used platform for communicating and performing interactive computing. Not just bounding to the mathematical part but you can insert images and text documents as well. Notebook is an open-source web application which enables you to create and share interactive documents with live code , elaborate and explainatory text, visuaJupyterlizations, equations, data representations etc.\n",
    "It is widely used for data cleaning and transformation, statistical modelling, machine learning, data science and data analytics and much more.\n",
    "It allows the user to construct the content in a mixture of Markdown, an extended version of Markdown called MyST, Maths & Equations using MathJax, Jupyter Notebooks, reStructuredText, the output of running Jupyter Notebooks at build time. Multiple output formats can be produced (currently single files, multipage HTML web pages and PDF files)\n",
    "!()\n",
    "\n",
    "## Installation\n",
    "- The best method is to install the anaconda package as it cames pre-installed with the anacoda package.\n",
    "- The other method is by installing latest version of python and write the following command in the powershell or command prompt:\n",
    "    pip install jupyter\n",
    "\n",
    "### Your jupyter notebook is installed!!!\n",
    "\n",
    "to launch jupyter notebook just type : Jupyter Notebook ,in your command prompt.\n",
    "\n",
    "### Jupyter Notebook is launched \n",
    "\n",
    "now we can see an entire menu with a lot of options we can create a notebook or upload files.\n",
    "run live code or write markdown files.\n",
    "set the appearance of the notebook according to our preference.\n",
    "setup keyboard shortcuts for our convenience and many more.\n"
   ]
  }
 ],
 "metadata": {
  "kernelspec": {
   "display_name": "Python 3 (ipykernel)",
   "language": "python",
   "name": "python3"
  },
  "language_info": {
   "codemirror_mode": {
    "name": "ipython",
    "version": 3
   },
   "file_extension": ".py",
   "mimetype": "text/x-python",
   "name": "python",
   "nbconvert_exporter": "python",
   "pygments_lexer": "ipython3",
   "version": "3.9.12"
  }
 },
 "nbformat": 4,
 "nbformat_minor": 5
}
