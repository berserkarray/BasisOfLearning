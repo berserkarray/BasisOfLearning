{
 "cells": [
  {
   "cell_type": "markdown",
   "id": "f6826b4a",
   "metadata": {},
   "source": [
    "# Pandas"
   ]
  },
  {
   "cell_type": "markdown",
   "id": "862d71bf",
   "metadata": {},
   "source": [
    "Pandas is an open source library. It is a fast, powerful, flexible and easy to use open source data analysis and manipulation tool, built on top of the Python programming language. \n",
    "It let's us work with spreadsheets along with using latest Python libraries and functions."
   ]
  },
  {
   "cell_type": "markdown",
   "id": "d5210d68",
   "metadata": {},
   "source": [
    "## Working with Pandas"
   ]
  },
  {
   "cell_type": "code",
   "execution_count": 15,
   "id": "cdf73667",
   "metadata": {},
   "outputs": [],
   "source": [
    "import pandas as pd  #imports pandas"
   ]
  },
  {
   "cell_type": "markdown",
   "id": "554cc57c",
   "metadata": {},
   "source": [
    "##### Pandas has two types of data structures:\n",
    "#### Series:\n",
    "It is a one dimensional array with indexes, it stores a single column or row od data in a datasheet.  \n",
    "#### DataFrame:\n",
    "Its a tabular spreadsheet like structure representing rows each of which contains one or nultiple columns."
   ]
  },
  {
   "cell_type": "markdown",
   "id": "e6162491",
   "metadata": {},
   "source": [
    "### Creating a Pandas series"
   ]
  },
  {
   "cell_type": "code",
   "execution_count": 16,
   "id": "ec9b65fd",
   "metadata": {},
   "outputs": [
    {
     "data": {
      "text/plain": [
       "0    13\n",
       "1    24\n",
       "2    36\n",
       "dtype: int64"
      ]
     },
     "execution_count": 16,
     "metadata": {},
     "output_type": "execute_result"
    }
   ],
   "source": [
    "y = [13, 24, 36]  #creating a python list\n",
    "s = pd.Series(y)  #converting python list into series\n",
    "s"
   ]
  },
  {
   "cell_type": "markdown",
   "id": "9ba393cf",
   "metadata": {},
   "source": [
    "### Creating Pandas DataFrame"
   ]
  },
  {
   "cell_type": "code",
   "execution_count": 34,
   "id": "03ce33eb",
   "metadata": {},
   "outputs": [
    {
     "name": "stdout",
     "output_type": "stream",
     "text": [
      "        Name  Age University Specialization\n",
      "0       Neil   23        BHU    Mathematics\n",
      "1  Aishwarya   21         PU        Biology\n",
      "2      Rahul   22         DU        Physics\n",
      "3    Shivani   21        BHU      Chemistry\n",
      "4    Namrata   20        IIT    Accountancy\n",
      "5      Pawan   22         MU    Mathematics\n",
      "6      Karan   22        JNU  Bio-Chemistry\n",
      "7      Krish   23         MU   Astrophysics\n"
     ]
    }
   ],
   "source": [
    "# Let us consider a dictionary\n",
    "exa = {\n",
    "    'Name' : ['Neil', 'Aishwarya', 'Rahul', 'Shivani','Namrata','Pawan', 'Karan','Krish'],\n",
    "    'Age' : [23, 21, 22, 21, 20, 22, 22, 23],\n",
    "    'University' : ['BHU', 'PU', 'DU', 'BHU', 'IIT', 'MU', 'JNU', 'MU'],\n",
    "    'Specialization' : ['Mathematics' , 'Biology', 'Physics' , 'Chemistry', 'Accountancy', 'Mathematics', 'Bio-Chemistry', 'Astrophysics']}\n",
    "df = pd.DataFrame(exa) # pd.DataFrame() converts dictionary into a data frame\n",
    "print(df) #prints the data frame"
   ]
  },
  {
   "cell_type": "markdown",
   "id": "97331558",
   "metadata": {},
   "source": [
    "### We can also convert this DataFrame into .csv file which can be opened in Excel sheets by the following command.\n"
   ]
  },
  {
   "cell_type": "code",
   "execution_count": 35,
   "id": "7a08bc06",
   "metadata": {},
   "outputs": [],
   "source": [
    "df.to_csv(\"nameofthefile.csv\")  #creates a excel file on the system."
   ]
  },
  {
   "cell_type": "markdown",
   "id": "0b24574a",
   "metadata": {},
   "source": [
    "Sometimes we just want to have access to only few rows of the dataframe, in these cases we can use **head()** or **tail()** function."
   ]
  },
  {
   "cell_type": "code",
   "execution_count": 36,
   "id": "72528c26",
   "metadata": {},
   "outputs": [
    {
     "data": {
      "text/html": [
       "<div>\n",
       "<style scoped>\n",
       "    .dataframe tbody tr th:only-of-type {\n",
       "        vertical-align: middle;\n",
       "    }\n",
       "\n",
       "    .dataframe tbody tr th {\n",
       "        vertical-align: top;\n",
       "    }\n",
       "\n",
       "    .dataframe thead th {\n",
       "        text-align: right;\n",
       "    }\n",
       "</style>\n",
       "<table border=\"1\" class=\"dataframe\">\n",
       "  <thead>\n",
       "    <tr style=\"text-align: right;\">\n",
       "      <th></th>\n",
       "      <th>Name</th>\n",
       "      <th>Age</th>\n",
       "      <th>University</th>\n",
       "      <th>Specialization</th>\n",
       "    </tr>\n",
       "  </thead>\n",
       "  <tbody>\n",
       "    <tr>\n",
       "      <th>0</th>\n",
       "      <td>Neil</td>\n",
       "      <td>23</td>\n",
       "      <td>BHU</td>\n",
       "      <td>Mathematics</td>\n",
       "    </tr>\n",
       "    <tr>\n",
       "      <th>1</th>\n",
       "      <td>Aishwarya</td>\n",
       "      <td>21</td>\n",
       "      <td>PU</td>\n",
       "      <td>Biology</td>\n",
       "    </tr>\n",
       "    <tr>\n",
       "      <th>2</th>\n",
       "      <td>Rahul</td>\n",
       "      <td>22</td>\n",
       "      <td>DU</td>\n",
       "      <td>Physics</td>\n",
       "    </tr>\n",
       "  </tbody>\n",
       "</table>\n",
       "</div>"
      ],
      "text/plain": [
       "        Name  Age University Specialization\n",
       "0       Neil   23        BHU    Mathematics\n",
       "1  Aishwarya   21         PU        Biology\n",
       "2      Rahul   22         DU        Physics"
      ]
     },
     "execution_count": 36,
     "metadata": {},
     "output_type": "execute_result"
    }
   ],
   "source": [
    "df.head(3) #prints only top 3 rows of the dataframe"
   ]
  },
  {
   "cell_type": "code",
   "execution_count": 37,
   "id": "10d6b8c4",
   "metadata": {},
   "outputs": [
    {
     "data": {
      "text/html": [
       "<div>\n",
       "<style scoped>\n",
       "    .dataframe tbody tr th:only-of-type {\n",
       "        vertical-align: middle;\n",
       "    }\n",
       "\n",
       "    .dataframe tbody tr th {\n",
       "        vertical-align: top;\n",
       "    }\n",
       "\n",
       "    .dataframe thead th {\n",
       "        text-align: right;\n",
       "    }\n",
       "</style>\n",
       "<table border=\"1\" class=\"dataframe\">\n",
       "  <thead>\n",
       "    <tr style=\"text-align: right;\">\n",
       "      <th></th>\n",
       "      <th>Name</th>\n",
       "      <th>Age</th>\n",
       "      <th>University</th>\n",
       "      <th>Specialization</th>\n",
       "    </tr>\n",
       "  </thead>\n",
       "  <tbody>\n",
       "    <tr>\n",
       "      <th>6</th>\n",
       "      <td>Karan</td>\n",
       "      <td>22</td>\n",
       "      <td>JNU</td>\n",
       "      <td>Bio-Chemistry</td>\n",
       "    </tr>\n",
       "    <tr>\n",
       "      <th>7</th>\n",
       "      <td>Krish</td>\n",
       "      <td>23</td>\n",
       "      <td>MU</td>\n",
       "      <td>Astrophysics</td>\n",
       "    </tr>\n",
       "  </tbody>\n",
       "</table>\n",
       "</div>"
      ],
      "text/plain": [
       "    Name  Age University Specialization\n",
       "6  Karan   22        JNU  Bio-Chemistry\n",
       "7  Krish   23         MU   Astrophysics"
      ]
     },
     "execution_count": 37,
     "metadata": {},
     "output_type": "execute_result"
    }
   ],
   "source": [
    "df.tail(2) #prints only last 2 rows of the dataframe"
   ]
  },
  {
   "cell_type": "markdown",
   "id": "dca4f23f",
   "metadata": {},
   "source": [
    "### We can also access excel files in the Notebook with the following command. \n",
    "Assume there's an excel.csv file on the system. it can be opened on the notebook by following command. "
   ]
  },
  {
   "cell_type": "markdown",
   "id": "f859d5f3",
   "metadata": {},
   "source": [
    "pd.read_csv('salaries.csv')  \n",
    "##### opens an excel file named salaries from the system"
   ]
  },
  {
   "cell_type": "markdown",
   "id": "0b09d812",
   "metadata": {},
   "source": [
    "##### We can access any column of the DataFrame by following command:"
   ]
  },
  {
   "cell_type": "code",
   "execution_count": 39,
   "id": "d0ba9156",
   "metadata": {},
   "outputs": [
    {
     "data": {
      "text/plain": [
       "0    23\n",
       "1    21\n",
       "2    22\n",
       "3    21\n",
       "4    20\n",
       "5    22\n",
       "6    22\n",
       "7    23\n",
       "Name: Age, dtype: int64"
      ]
     },
     "execution_count": 39,
     "metadata": {},
     "output_type": "execute_result"
    }
   ],
   "source": [
    "df['Age']  #prints age column only as an index of the dataframe."
   ]
  },
  {
   "cell_type": "code",
   "execution_count": 42,
   "id": "bd41d921",
   "metadata": {},
   "outputs": [
    {
     "data": {
      "text/plain": [
       "22"
      ]
     },
     "execution_count": 42,
     "metadata": {},
     "output_type": "execute_result"
    }
   ],
   "source": [
    "df['Age'][2] #prints element of column age indexed 2."
   ]
  },
  {
   "cell_type": "markdown",
   "id": "ad8cd4e2",
   "metadata": {},
   "source": [
    "###### We can also change the index of the dataframe like this:"
   ]
  },
  {
   "cell_type": "code",
   "execution_count": 45,
   "id": "734cf8e3",
   "metadata": {},
   "outputs": [
    {
     "data": {
      "text/html": [
       "<div>\n",
       "<style scoped>\n",
       "    .dataframe tbody tr th:only-of-type {\n",
       "        vertical-align: middle;\n",
       "    }\n",
       "\n",
       "    .dataframe tbody tr th {\n",
       "        vertical-align: top;\n",
       "    }\n",
       "\n",
       "    .dataframe thead th {\n",
       "        text-align: right;\n",
       "    }\n",
       "</style>\n",
       "<table border=\"1\" class=\"dataframe\">\n",
       "  <thead>\n",
       "    <tr style=\"text-align: right;\">\n",
       "      <th></th>\n",
       "      <th>Name</th>\n",
       "      <th>Age</th>\n",
       "      <th>University</th>\n",
       "      <th>Specialization</th>\n",
       "    </tr>\n",
       "  </thead>\n",
       "  <tbody>\n",
       "    <tr>\n",
       "      <th>1</th>\n",
       "      <td>Neil</td>\n",
       "      <td>23</td>\n",
       "      <td>BHU</td>\n",
       "      <td>Mathematics</td>\n",
       "    </tr>\n",
       "    <tr>\n",
       "      <th>2</th>\n",
       "      <td>Aishwarya</td>\n",
       "      <td>21</td>\n",
       "      <td>PU</td>\n",
       "      <td>Biology</td>\n",
       "    </tr>\n",
       "    <tr>\n",
       "      <th>3</th>\n",
       "      <td>Rahul</td>\n",
       "      <td>22</td>\n",
       "      <td>DU</td>\n",
       "      <td>Physics</td>\n",
       "    </tr>\n",
       "    <tr>\n",
       "      <th>4</th>\n",
       "      <td>Shivani</td>\n",
       "      <td>21</td>\n",
       "      <td>BHU</td>\n",
       "      <td>Chemistry</td>\n",
       "    </tr>\n",
       "    <tr>\n",
       "      <th>5</th>\n",
       "      <td>Namrata</td>\n",
       "      <td>20</td>\n",
       "      <td>IIT</td>\n",
       "      <td>Accountancy</td>\n",
       "    </tr>\n",
       "    <tr>\n",
       "      <th>6</th>\n",
       "      <td>Pawan</td>\n",
       "      <td>22</td>\n",
       "      <td>MU</td>\n",
       "      <td>Mathematics</td>\n",
       "    </tr>\n",
       "    <tr>\n",
       "      <th>7</th>\n",
       "      <td>Karan</td>\n",
       "      <td>22</td>\n",
       "      <td>JNU</td>\n",
       "      <td>Bio-Chemistry</td>\n",
       "    </tr>\n",
       "    <tr>\n",
       "      <th>8</th>\n",
       "      <td>Krish</td>\n",
       "      <td>23</td>\n",
       "      <td>MU</td>\n",
       "      <td>Astrophysics</td>\n",
       "    </tr>\n",
       "  </tbody>\n",
       "</table>\n",
       "</div>"
      ],
      "text/plain": [
       "        Name  Age University Specialization\n",
       "1       Neil   23        BHU    Mathematics\n",
       "2  Aishwarya   21         PU        Biology\n",
       "3      Rahul   22         DU        Physics\n",
       "4    Shivani   21        BHU      Chemistry\n",
       "5    Namrata   20        IIT    Accountancy\n",
       "6      Pawan   22         MU    Mathematics\n",
       "7      Karan   22        JNU  Bio-Chemistry\n",
       "8      Krish   23         MU   Astrophysics"
      ]
     },
     "execution_count": 45,
     "metadata": {},
     "output_type": "execute_result"
    }
   ],
   "source": [
    "df.index = [1,2,3,4,5,6,7,8]  # specifying the desired index.\n",
    "df"
   ]
  },
  {
   "cell_type": "code",
   "execution_count": 46,
   "id": "fff76743",
   "metadata": {},
   "outputs": [
    {
     "name": "stdout",
     "output_type": "stream",
     "text": [
      "<class 'pandas.core.frame.DataFrame'>\n",
      "Int64Index: 8 entries, 1 to 8\n",
      "Data columns (total 4 columns):\n",
      " #   Column          Non-Null Count  Dtype \n",
      "---  ------          --------------  ----- \n",
      " 0   Name            8 non-null      object\n",
      " 1   Age             8 non-null      int64 \n",
      " 2   University      8 non-null      object\n",
      " 3   Specialization  8 non-null      object\n",
      "dtypes: int64(1), object(3)\n",
      "memory usage: 320.0+ bytes\n"
     ]
    }
   ],
   "source": [
    "df.info() #data summary "
   ]
  },
  {
   "cell_type": "markdown",
   "id": "f6ee85ad",
   "metadata": {},
   "source": [
    "##### We can also calculate the statistical summary of the data using .describe() "
   ]
  },
  {
   "cell_type": "code",
   "execution_count": 47,
   "id": "b4f80f3e",
   "metadata": {},
   "outputs": [
    {
     "data": {
      "text/html": [
       "<div>\n",
       "<style scoped>\n",
       "    .dataframe tbody tr th:only-of-type {\n",
       "        vertical-align: middle;\n",
       "    }\n",
       "\n",
       "    .dataframe tbody tr th {\n",
       "        vertical-align: top;\n",
       "    }\n",
       "\n",
       "    .dataframe thead th {\n",
       "        text-align: right;\n",
       "    }\n",
       "</style>\n",
       "<table border=\"1\" class=\"dataframe\">\n",
       "  <thead>\n",
       "    <tr style=\"text-align: right;\">\n",
       "      <th></th>\n",
       "      <th>Age</th>\n",
       "    </tr>\n",
       "  </thead>\n",
       "  <tbody>\n",
       "    <tr>\n",
       "      <th>count</th>\n",
       "      <td>8.000000</td>\n",
       "    </tr>\n",
       "    <tr>\n",
       "      <th>mean</th>\n",
       "      <td>21.750000</td>\n",
       "    </tr>\n",
       "    <tr>\n",
       "      <th>std</th>\n",
       "      <td>1.035098</td>\n",
       "    </tr>\n",
       "    <tr>\n",
       "      <th>min</th>\n",
       "      <td>20.000000</td>\n",
       "    </tr>\n",
       "    <tr>\n",
       "      <th>25%</th>\n",
       "      <td>21.000000</td>\n",
       "    </tr>\n",
       "    <tr>\n",
       "      <th>50%</th>\n",
       "      <td>22.000000</td>\n",
       "    </tr>\n",
       "    <tr>\n",
       "      <th>75%</th>\n",
       "      <td>22.250000</td>\n",
       "    </tr>\n",
       "    <tr>\n",
       "      <th>max</th>\n",
       "      <td>23.000000</td>\n",
       "    </tr>\n",
       "  </tbody>\n",
       "</table>\n",
       "</div>"
      ],
      "text/plain": [
       "             Age\n",
       "count   8.000000\n",
       "mean   21.750000\n",
       "std     1.035098\n",
       "min    20.000000\n",
       "25%    21.000000\n",
       "50%    22.000000\n",
       "75%    22.250000\n",
       "max    23.000000"
      ]
     },
     "execution_count": 47,
     "metadata": {},
     "output_type": "execute_result"
    }
   ],
   "source": [
    "df.describe()"
   ]
  },
  {
   "cell_type": "markdown",
   "id": "80c8baea",
   "metadata": {},
   "source": [
    "## Some Other Important Functions"
   ]
  },
  {
   "cell_type": "markdown",
   "id": "e33844cd",
   "metadata": {},
   "source": [
    "##### .loc()\n",
    "\n",
    "##### Access a group of rows and columns by their name.\n",
    "\n"
   ]
  },
  {
   "cell_type": "code",
   "execution_count": 52,
   "id": "099bc2cc",
   "metadata": {},
   "outputs": [
    {
     "data": {
      "text/plain": [
       "1    BHU\n",
       "2     PU\n",
       "3     DU\n",
       "4    BHU\n",
       "5    IIT\n",
       "6     MU\n",
       "7    JNU\n",
       "8     MU\n",
       "Name: University, dtype: object"
      ]
     },
     "execution_count": 52,
     "metadata": {},
     "output_type": "execute_result"
    }
   ],
   "source": [
    "df.loc[:,'University'] # Prints column labelled 'University'"
   ]
  },
  {
   "cell_type": "code",
   "execution_count": 53,
   "id": "15b13b8e",
   "metadata": {},
   "outputs": [
    {
     "data": {
      "text/plain": [
       "Name              Aishwarya\n",
       "Age                      21\n",
       "University               PU\n",
       "Specialization      Biology\n",
       "Name: 2, dtype: object"
      ]
     },
     "execution_count": 53,
     "metadata": {},
     "output_type": "execute_result"
    }
   ],
   "source": [
    "df.loc[2,:] # Prints row labelled '2'"
   ]
  },
  {
   "cell_type": "code",
   "execution_count": 54,
   "id": "7bdf7088",
   "metadata": {},
   "outputs": [
    {
     "data": {
      "text/plain": [
       "'Namrata'"
      ]
     },
     "execution_count": 54,
     "metadata": {},
     "output_type": "execute_result"
    }
   ],
   "source": [
    "df.loc[5,'Name'] # Prints element from 'Name' column and 5 row"
   ]
  },
  {
   "cell_type": "markdown",
   "id": "78fddb65",
   "metadata": {},
   "source": [
    "##### .iloc()\n",
    "\n",
    "##### Access a group of rows and columns by their index.\n"
   ]
  },
  {
   "cell_type": "code",
   "execution_count": 55,
   "id": "c4fdf666",
   "metadata": {},
   "outputs": [
    {
     "data": {
      "text/plain": [
       "1      Mathematics\n",
       "2          Biology\n",
       "3          Physics\n",
       "4        Chemistry\n",
       "5      Accountancy\n",
       "6      Mathematics\n",
       "7    Bio-Chemistry\n",
       "8     Astrophysics\n",
       "Name: Specialization, dtype: object"
      ]
     },
     "execution_count": 55,
     "metadata": {},
     "output_type": "execute_result"
    }
   ],
   "source": [
    "df.iloc[:,3] # Prints column indexed 3"
   ]
  },
  {
   "cell_type": "code",
   "execution_count": 56,
   "id": "ebcd6699",
   "metadata": {},
   "outputs": [
    {
     "data": {
      "text/plain": [
       "Name                Shivani\n",
       "Age                      21\n",
       "University              BHU\n",
       "Specialization    Chemistry\n",
       "Name: 4, dtype: object"
      ]
     },
     "execution_count": 56,
     "metadata": {},
     "output_type": "execute_result"
    }
   ],
   "source": [
    "df.iloc[3,:] # Prints row indexed 3"
   ]
  },
  {
   "cell_type": "code",
   "execution_count": 57,
   "id": "87775bc7",
   "metadata": {},
   "outputs": [
    {
     "data": {
      "text/plain": [
       "'Astrophysics'"
      ]
     },
     "execution_count": 57,
     "metadata": {},
     "output_type": "execute_result"
    }
   ],
   "source": [
    "df.iloc[7,3]  # Prints element at intersection of 7 indexed row and 3 indexed column."
   ]
  },
  {
   "cell_type": "code",
   "execution_count": null,
   "id": "84cde1a0",
   "metadata": {},
   "outputs": [],
   "source": []
  }
 ],
 "metadata": {
  "kernelspec": {
   "display_name": "Python 3 (ipykernel)",
   "language": "python",
   "name": "python3"
  },
  "language_info": {
   "codemirror_mode": {
    "name": "ipython",
    "version": 3
   },
   "file_extension": ".py",
   "mimetype": "text/x-python",
   "name": "python",
   "nbconvert_exporter": "python",
   "pygments_lexer": "ipython3",
   "version": "3.9.12"
  }
 },
 "nbformat": 4,
 "nbformat_minor": 5
}
