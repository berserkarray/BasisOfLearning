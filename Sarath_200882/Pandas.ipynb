{
 "cells": [
  {
   "cell_type": "markdown",
   "id": "a0d5bbf3",
   "metadata": {},
   "source": [
    "# Pandas stuff"
   ]
  },
  {
   "cell_type": "markdown",
   "id": "a77f3d73",
   "metadata": {},
   "source": [
    "- Pandas is a library for data manipulation. It is highly compatible with Numpy"
   ]
  },
  {
   "cell_type": "markdown",
   "id": "bbec6ec2",
   "metadata": {},
   "source": [
    "- Have a look at its [documentation](https://pandas.pydata.org/docs/)"
   ]
  },
  {
   "cell_type": "markdown",
   "id": "542c3d90",
   "metadata": {},
   "source": [
    "- Import the libraries in a similar way"
   ]
  },
  {
   "cell_type": "code",
   "execution_count": 1,
   "id": "d7046398",
   "metadata": {},
   "outputs": [],
   "source": [
    "import numpy as np\n",
    "import pandas as pd"
   ]
  },
  {
   "cell_type": "markdown",
   "id": "ea0a1ad3",
   "metadata": {},
   "source": [
    "- We first try to generate a random matrix using numpy and then convert it to dataframe using pandas"
   ]
  },
  {
   "cell_type": "code",
   "execution_count": 19,
   "id": "b765fef6",
   "metadata": {},
   "outputs": [
    {
     "data": {
      "text/plain": [
       "array([[ 0.18958499,  2.08857389, -0.81712981],\n",
       "       [-0.44601169,  0.91602901, -1.14629838],\n",
       "       [-1.5102345 , -2.98845593,  1.01898122],\n",
       "       [-1.2425057 , -0.29850487, -0.48765869]])"
      ]
     },
     "execution_count": 19,
     "metadata": {},
     "output_type": "execute_result"
    }
   ],
   "source": [
    "M1 = np.random.randn(4,3)\n",
    "df = pd.DataFrame(M1)\n",
    "M1"
   ]
  },
  {
   "cell_type": "code",
   "execution_count": 20,
   "id": "e4c972b9",
   "metadata": {},
   "outputs": [
    {
     "data": {
      "text/html": [
       "<div>\n",
       "<style scoped>\n",
       "    .dataframe tbody tr th:only-of-type {\n",
       "        vertical-align: middle;\n",
       "    }\n",
       "\n",
       "    .dataframe tbody tr th {\n",
       "        vertical-align: top;\n",
       "    }\n",
       "\n",
       "    .dataframe thead th {\n",
       "        text-align: right;\n",
       "    }\n",
       "</style>\n",
       "<table border=\"1\" class=\"dataframe\">\n",
       "  <thead>\n",
       "    <tr style=\"text-align: right;\">\n",
       "      <th></th>\n",
       "      <th>0</th>\n",
       "      <th>1</th>\n",
       "      <th>2</th>\n",
       "    </tr>\n",
       "  </thead>\n",
       "  <tbody>\n",
       "    <tr>\n",
       "      <th>0</th>\n",
       "      <td>0.189585</td>\n",
       "      <td>2.088574</td>\n",
       "      <td>-0.817130</td>\n",
       "    </tr>\n",
       "    <tr>\n",
       "      <th>1</th>\n",
       "      <td>-0.446012</td>\n",
       "      <td>0.916029</td>\n",
       "      <td>-1.146298</td>\n",
       "    </tr>\n",
       "    <tr>\n",
       "      <th>2</th>\n",
       "      <td>-1.510235</td>\n",
       "      <td>-2.988456</td>\n",
       "      <td>1.018981</td>\n",
       "    </tr>\n",
       "    <tr>\n",
       "      <th>3</th>\n",
       "      <td>-1.242506</td>\n",
       "      <td>-0.298505</td>\n",
       "      <td>-0.487659</td>\n",
       "    </tr>\n",
       "  </tbody>\n",
       "</table>\n",
       "</div>"
      ],
      "text/plain": [
       "          0         1         2\n",
       "0  0.189585  2.088574 -0.817130\n",
       "1 -0.446012  0.916029 -1.146298\n",
       "2 -1.510235 -2.988456  1.018981\n",
       "3 -1.242506 -0.298505 -0.487659"
      ]
     },
     "execution_count": 20,
     "metadata": {},
     "output_type": "execute_result"
    }
   ],
   "source": [
    "df"
   ]
  },
  {
   "cell_type": "markdown",
   "id": "d452e842",
   "metadata": {},
   "source": [
    "- Access the rows and columns of the dataframe using ```df.index``` and ```df.columns```"
   ]
  },
  {
   "cell_type": "code",
   "execution_count": 21,
   "id": "7e797b86",
   "metadata": {},
   "outputs": [
    {
     "data": {
      "text/html": [
       "<div>\n",
       "<style scoped>\n",
       "    .dataframe tbody tr th:only-of-type {\n",
       "        vertical-align: middle;\n",
       "    }\n",
       "\n",
       "    .dataframe tbody tr th {\n",
       "        vertical-align: top;\n",
       "    }\n",
       "\n",
       "    .dataframe thead th {\n",
       "        text-align: right;\n",
       "    }\n",
       "</style>\n",
       "<table border=\"1\" class=\"dataframe\">\n",
       "  <thead>\n",
       "    <tr style=\"text-align: right;\">\n",
       "      <th></th>\n",
       "      <th>SPI</th>\n",
       "      <th>CPI</th>\n",
       "      <th>Motivation</th>\n",
       "    </tr>\n",
       "  </thead>\n",
       "  <tbody>\n",
       "    <tr>\n",
       "      <th>sem1</th>\n",
       "      <td>0.189585</td>\n",
       "      <td>2.088574</td>\n",
       "      <td>-0.817130</td>\n",
       "    </tr>\n",
       "    <tr>\n",
       "      <th>sem2</th>\n",
       "      <td>-0.446012</td>\n",
       "      <td>0.916029</td>\n",
       "      <td>-1.146298</td>\n",
       "    </tr>\n",
       "    <tr>\n",
       "      <th>sem3</th>\n",
       "      <td>-1.510235</td>\n",
       "      <td>-2.988456</td>\n",
       "      <td>1.018981</td>\n",
       "    </tr>\n",
       "    <tr>\n",
       "      <th>sem4</th>\n",
       "      <td>-1.242506</td>\n",
       "      <td>-0.298505</td>\n",
       "      <td>-0.487659</td>\n",
       "    </tr>\n",
       "  </tbody>\n",
       "</table>\n",
       "</div>"
      ],
      "text/plain": [
       "           SPI       CPI  Motivation\n",
       "sem1  0.189585  2.088574   -0.817130\n",
       "sem2 -0.446012  0.916029   -1.146298\n",
       "sem3 -1.510235 -2.988456    1.018981\n",
       "sem4 -1.242506 -0.298505   -0.487659"
      ]
     },
     "execution_count": 21,
     "metadata": {},
     "output_type": "execute_result"
    }
   ],
   "source": [
    "df.columns = [\"SPI\",\"CPI\",\"Motivation\"]              #Giving a meaning to the random table\n",
    "df.index = [\"sem1\", \"sem2\", \"sem3\", \"sem4\"]\n",
    "df"
   ]
  },
  {
   "cell_type": "markdown",
   "id": "d1213451",
   "metadata": {},
   "source": [
    "- Access individual index and columns in this way:"
   ]
  },
  {
   "cell_type": "code",
   "execution_count": 24,
   "id": "33702f33",
   "metadata": {},
   "outputs": [
    {
     "data": {
      "text/plain": [
       "sem1   -0.817130\n",
       "sem2   -1.146298\n",
       "sem3    1.018981\n",
       "sem4   -0.487659\n",
       "Name: Motivation, dtype: float64"
      ]
     },
     "execution_count": 24,
     "metadata": {},
     "output_type": "execute_result"
    }
   ],
   "source": [
    "df.Motivation           #Have a look at My Motivation across semesters"
   ]
  },
  {
   "cell_type": "markdown",
   "id": "0de6875d",
   "metadata": {},
   "source": [
    "- Use ```df[conditions]``` to filter out the data "
   ]
  },
  {
   "cell_type": "code",
   "execution_count": 25,
   "id": "3c2906a1",
   "metadata": {},
   "outputs": [
    {
     "data": {
      "text/html": [
       "<div>\n",
       "<style scoped>\n",
       "    .dataframe tbody tr th:only-of-type {\n",
       "        vertical-align: middle;\n",
       "    }\n",
       "\n",
       "    .dataframe tbody tr th {\n",
       "        vertical-align: top;\n",
       "    }\n",
       "\n",
       "    .dataframe thead th {\n",
       "        text-align: right;\n",
       "    }\n",
       "</style>\n",
       "<table border=\"1\" class=\"dataframe\">\n",
       "  <thead>\n",
       "    <tr style=\"text-align: right;\">\n",
       "      <th></th>\n",
       "      <th>SPI</th>\n",
       "      <th>CPI</th>\n",
       "      <th>Motivation</th>\n",
       "    </tr>\n",
       "  </thead>\n",
       "  <tbody>\n",
       "    <tr>\n",
       "      <th>sem1</th>\n",
       "      <td>0.189585</td>\n",
       "      <td>2.088574</td>\n",
       "      <td>-0.817130</td>\n",
       "    </tr>\n",
       "    <tr>\n",
       "      <th>sem2</th>\n",
       "      <td>-0.446012</td>\n",
       "      <td>0.916029</td>\n",
       "      <td>-1.146298</td>\n",
       "    </tr>\n",
       "    <tr>\n",
       "      <th>sem4</th>\n",
       "      <td>-1.242506</td>\n",
       "      <td>-0.298505</td>\n",
       "      <td>-0.487659</td>\n",
       "    </tr>\n",
       "  </tbody>\n",
       "</table>\n",
       "</div>"
      ],
      "text/plain": [
       "           SPI       CPI  Motivation\n",
       "sem1  0.189585  2.088574   -0.817130\n",
       "sem2 -0.446012  0.916029   -1.146298\n",
       "sem4 -1.242506 -0.298505   -0.487659"
      ]
     },
     "execution_count": 25,
     "metadata": {},
     "output_type": "execute_result"
    }
   ],
   "source": [
    "condition = df[df.Motivation < 0]       #Semesters Where I had Less than ZERO Motivation\n",
    "condition"
   ]
  },
  {
   "cell_type": "markdown",
   "id": "3dc4844b",
   "metadata": {},
   "source": [
    "- ```df.apply``` is used for applying a specific function to a column"
   ]
  },
  {
   "cell_type": "code",
   "execution_count": 28,
   "id": "b74db295",
   "metadata": {},
   "outputs": [
    {
     "data": {
      "text/plain": [
       "sem1   -1.0\n",
       "sem2   -1.0\n",
       "sem3    1.0\n",
       "sem4   -0.0\n",
       "Name: Motivation, dtype: float64"
      ]
     },
     "execution_count": 28,
     "metadata": {},
     "output_type": "execute_result"
    }
   ],
   "source": [
    "df[\"Motivation\"].apply(np.round)   #rounds off the Motivation column"
   ]
  },
  {
   "cell_type": "markdown",
   "id": "3643be9b",
   "metadata": {},
   "source": [
    "- ```df.loc[condition, 'column'] = new_value``` is used to change all rows of a specific column based on a condition"
   ]
  },
  {
   "cell_type": "code",
   "execution_count": 30,
   "id": "8d444ba3",
   "metadata": {},
   "outputs": [
    {
     "data": {
      "text/html": [
       "<div>\n",
       "<style scoped>\n",
       "    .dataframe tbody tr th:only-of-type {\n",
       "        vertical-align: middle;\n",
       "    }\n",
       "\n",
       "    .dataframe tbody tr th {\n",
       "        vertical-align: top;\n",
       "    }\n",
       "\n",
       "    .dataframe thead th {\n",
       "        text-align: right;\n",
       "    }\n",
       "</style>\n",
       "<table border=\"1\" class=\"dataframe\">\n",
       "  <thead>\n",
       "    <tr style=\"text-align: right;\">\n",
       "      <th></th>\n",
       "      <th>SPI</th>\n",
       "      <th>CPI</th>\n",
       "      <th>Motivation</th>\n",
       "    </tr>\n",
       "  </thead>\n",
       "  <tbody>\n",
       "    <tr>\n",
       "      <th>sem1</th>\n",
       "      <td>0.189585</td>\n",
       "      <td>2.088574</td>\n",
       "      <td>1.000000</td>\n",
       "    </tr>\n",
       "    <tr>\n",
       "      <th>sem2</th>\n",
       "      <td>-0.446012</td>\n",
       "      <td>0.916029</td>\n",
       "      <td>-1.146298</td>\n",
       "    </tr>\n",
       "    <tr>\n",
       "      <th>sem3</th>\n",
       "      <td>-1.510235</td>\n",
       "      <td>-2.988456</td>\n",
       "      <td>1.018981</td>\n",
       "    </tr>\n",
       "    <tr>\n",
       "      <th>sem4</th>\n",
       "      <td>-1.242506</td>\n",
       "      <td>-0.298505</td>\n",
       "      <td>-0.487659</td>\n",
       "    </tr>\n",
       "  </tbody>\n",
       "</table>\n",
       "</div>"
      ],
      "text/plain": [
       "           SPI       CPI  Motivation\n",
       "sem1  0.189585  2.088574    1.000000\n",
       "sem2 -0.446012  0.916029   -1.146298\n",
       "sem3 -1.510235 -2.988456    1.018981\n",
       "sem4 -1.242506 -0.298505   -0.487659"
      ]
     },
     "execution_count": 30,
     "metadata": {},
     "output_type": "execute_result"
    }
   ],
   "source": [
    "df.loc[df.CPI > 1, \"Motivation\"] = 1   #changes motivation to 1 where cpi > 1\n",
    "df"
   ]
  },
  {
   "cell_type": "markdown",
   "id": "3d57c826",
   "metadata": {},
   "source": [
    "- ```df.sort_values``` is used to sort columns"
   ]
  },
  {
   "cell_type": "code",
   "execution_count": 33,
   "id": "ba5e25ef",
   "metadata": {},
   "outputs": [
    {
     "data": {
      "text/html": [
       "<div>\n",
       "<style scoped>\n",
       "    .dataframe tbody tr th:only-of-type {\n",
       "        vertical-align: middle;\n",
       "    }\n",
       "\n",
       "    .dataframe tbody tr th {\n",
       "        vertical-align: top;\n",
       "    }\n",
       "\n",
       "    .dataframe thead th {\n",
       "        text-align: right;\n",
       "    }\n",
       "</style>\n",
       "<table border=\"1\" class=\"dataframe\">\n",
       "  <thead>\n",
       "    <tr style=\"text-align: right;\">\n",
       "      <th></th>\n",
       "      <th>SPI</th>\n",
       "      <th>CPI</th>\n",
       "      <th>Motivation</th>\n",
       "    </tr>\n",
       "  </thead>\n",
       "  <tbody>\n",
       "    <tr>\n",
       "      <th>sem1</th>\n",
       "      <td>0.189585</td>\n",
       "      <td>2.088574</td>\n",
       "      <td>1.000000</td>\n",
       "    </tr>\n",
       "    <tr>\n",
       "      <th>sem2</th>\n",
       "      <td>-0.446012</td>\n",
       "      <td>0.916029</td>\n",
       "      <td>-1.146298</td>\n",
       "    </tr>\n",
       "    <tr>\n",
       "      <th>sem4</th>\n",
       "      <td>-1.242506</td>\n",
       "      <td>-0.298505</td>\n",
       "      <td>-0.487659</td>\n",
       "    </tr>\n",
       "    <tr>\n",
       "      <th>sem3</th>\n",
       "      <td>-1.510235</td>\n",
       "      <td>-2.988456</td>\n",
       "      <td>1.018981</td>\n",
       "    </tr>\n",
       "  </tbody>\n",
       "</table>\n",
       "</div>"
      ],
      "text/plain": [
       "           SPI       CPI  Motivation\n",
       "sem1  0.189585  2.088574    1.000000\n",
       "sem2 -0.446012  0.916029   -1.146298\n",
       "sem4 -1.242506 -0.298505   -0.487659\n",
       "sem3 -1.510235 -2.988456    1.018981"
      ]
     },
     "execution_count": 33,
     "metadata": {},
     "output_type": "execute_result"
    }
   ],
   "source": [
    "df1 = df.sort_values(by=[\"SPI\"], ascending=False)     #Sorts highest to lowest SPI\n",
    "df1"
   ]
  },
  {
   "cell_type": "markdown",
   "id": "44181d8a",
   "metadata": {},
   "source": [
    "- You can explore more useful functions like these, and try it out on your notebooks!"
   ]
  }
 ],
 "metadata": {
  "kernelspec": {
   "display_name": "Python 3 (ipykernel)",
   "language": "python",
   "name": "python3"
  },
  "language_info": {
   "codemirror_mode": {
    "name": "ipython",
    "version": 3
   },
   "file_extension": ".py",
   "mimetype": "text/x-python",
   "name": "python",
   "nbconvert_exporter": "python",
   "pygments_lexer": "ipython3",
   "version": "3.9.12"
  }
 },
 "nbformat": 4,
 "nbformat_minor": 5
}
