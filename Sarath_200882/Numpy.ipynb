{
 "cells": [
  {
   "cell_type": "markdown",
   "id": "d50824dd",
   "metadata": {},
   "source": [
    "# Numpy stuff"
   ]
  },
  {
   "cell_type": "markdown",
   "id": "ddaf4ff3",
   "metadata": {},
   "source": [
    "- Numpy is one of the major libraries used in machine learning and data science. It is used for a variety of mathematical computations by helping us with large n-dimensional arrays."
   ]
  },
  {
   "cell_type": "markdown",
   "id": "ed3b7891",
   "metadata": {},
   "source": [
    "- So it comes pre-installed with your Anaconda package."
   ]
  },
  {
   "cell_type": "markdown",
   "id": "371fc77a",
   "metadata": {},
   "source": [
    "- Have a look at its [documentation](https://numpy.org/doc/)"
   ]
  },
  {
   "cell_type": "markdown",
   "id": "92f1e203",
   "metadata": {},
   "source": [
    "- You just need to import the libraries like:"
   ]
  },
  {
   "cell_type": "code",
   "execution_count": 1,
   "id": "230e1770",
   "metadata": {},
   "outputs": [],
   "source": [
    "import numpy as np"
   ]
  },
  {
   "cell_type": "markdown",
   "id": "c1f6e05d",
   "metadata": {},
   "source": [
    "- We can create a numpy array with the ```np.array()``` constructor with a regular Python list as its argument"
   ]
  },
  {
   "cell_type": "code",
   "execution_count": 2,
   "id": "8df338ad",
   "metadata": {},
   "outputs": [],
   "source": [
    "a1 = np.array([1,2,3,4])"
   ]
  },
  {
   "cell_type": "markdown",
   "id": "5b3cc03d",
   "metadata": {},
   "source": [
    "- Then you could implement functions like ```a1.shape``` to get the shape of an array"
   ]
  },
  {
   "cell_type": "code",
   "execution_count": 4,
   "id": "dbe0e0a5",
   "metadata": {},
   "outputs": [
    {
     "data": {
      "text/plain": [
       "(4,)"
      ]
     },
     "execution_count": 4,
     "metadata": {},
     "output_type": "execute_result"
    }
   ],
   "source": [
    "a1.shape"
   ]
  },
  {
   "cell_type": "markdown",
   "id": "a656371c",
   "metadata": {},
   "source": [
    "- In this case, the array above is uni-dimensional, also called a flat-array. We can also use a list of list to obtain a more clear matrix-like shape:"
   ]
  },
  {
   "cell_type": "code",
   "execution_count": 5,
   "id": "b80c9fad",
   "metadata": {},
   "outputs": [
    {
     "data": {
      "text/plain": [
       "(1, 4)"
      ]
     },
     "execution_count": 5,
     "metadata": {},
     "output_type": "execute_result"
    }
   ],
   "source": [
    "a2 = np.array([[1,2,3,4]])\n",
    "a2.shape"
   ]
  },
  {
   "cell_type": "markdown",
   "id": "8f18f2e9",
   "metadata": {},
   "source": [
    "- Now similarly initiate a column matrix"
   ]
  },
  {
   "cell_type": "code",
   "execution_count": 6,
   "id": "0ac4e5c6",
   "metadata": {},
   "outputs": [
    {
     "data": {
      "text/plain": [
       "(4, 1)"
      ]
     },
     "execution_count": 6,
     "metadata": {},
     "output_type": "execute_result"
    }
   ],
   "source": [
    "a3 = np.array([[1],[2],[3],[4]])\n",
    "a3.shape"
   ]
  },
  {
   "cell_type": "markdown",
   "id": "616ef45f",
   "metadata": {},
   "source": [
    "- Or maybe a full matrice the same way"
   ]
  },
  {
   "cell_type": "code",
   "execution_count": 8,
   "id": "63c9b271",
   "metadata": {},
   "outputs": [
    {
     "name": "stdout",
     "output_type": "stream",
     "text": [
      "M1 =  [[ 1  2  3]\n",
      " [ 4  5  6]\n",
      " [ 7  8  9]\n",
      " [10 11 12]]\n"
     ]
    },
    {
     "data": {
      "text/plain": [
       "(4, 3)"
      ]
     },
     "execution_count": 8,
     "metadata": {},
     "output_type": "execute_result"
    }
   ],
   "source": [
    "M1 = np.array([[1,2,3],[4,5,6],[7,8,9],[10,11,12]])\n",
    "print(\"M1 = \", M1)\n",
    "M1.shape"
   ]
  },
  {
   "cell_type": "markdown",
   "id": "989283c8",
   "metadata": {},
   "source": [
    "### Some more functions"
   ]
  },
  {
   "cell_type": "markdown",
   "id": "52f89757",
   "metadata": {},
   "source": [
    "    1. np.reshape"
   ]
  },
  {
   "cell_type": "code",
   "execution_count": 11,
   "id": "e7bfa2fa",
   "metadata": {},
   "outputs": [
    {
     "name": "stdout",
     "output_type": "stream",
     "text": [
      "M2 =  [[ 1  2  3  4  5  6  7  8  9 10 11 12]]\n"
     ]
    }
   ],
   "source": [
    "M2 = np.reshape(M1, (1,12)) #reshaping matrix M1 to a row Matrix M2\n",
    "print(\"M2 = \", M2)"
   ]
  },
  {
   "cell_type": "markdown",
   "id": "c1a25c27",
   "metadata": {},
   "source": [
    "- As you can see this works only when the number of elements dont change"
   ]
  },
  {
   "cell_type": "markdown",
   "id": "6a3ac796",
   "metadata": {},
   "source": [
    "    2. np.dot"
   ]
  },
  {
   "cell_type": "markdown",
   "id": "0d4f5e4e",
   "metadata": {},
   "source": [
    "- You may be familiar with the dot product and its rules. Here we find 'a3.a2'"
   ]
  },
  {
   "cell_type": "code",
   "execution_count": 12,
   "id": "f78ee637",
   "metadata": {},
   "outputs": [
    {
     "name": "stdout",
     "output_type": "stream",
     "text": [
      "Dot product =  [[ 1  2  3  4]\n",
      " [ 2  4  6  8]\n",
      " [ 3  6  9 12]\n",
      " [ 4  8 12 16]]\n"
     ]
    },
    {
     "data": {
      "text/plain": [
       "(4, 4)"
      ]
     },
     "execution_count": 12,
     "metadata": {},
     "output_type": "execute_result"
    }
   ],
   "source": [
    "Dot_res1 = np.dot(a3,a2)\n",
    "print(\"Dot product = \", Dot_res1)\n",
    "Dot_res1.shape"
   ]
  },
  {
   "cell_type": "code",
   "execution_count": 13,
   "id": "241b29e9",
   "metadata": {},
   "outputs": [
    {
     "name": "stdout",
     "output_type": "stream",
     "text": [
      "Dot product =  [[30]]\n"
     ]
    },
    {
     "data": {
      "text/plain": [
       "(1, 1)"
      ]
     },
     "execution_count": 13,
     "metadata": {},
     "output_type": "execute_result"
    }
   ],
   "source": [
    "Dot_res2 = np.dot(a2,a3)\n",
    "print(\"Dot product = \", Dot_res2)\n",
    "Dot_res2.shape"
   ]
  },
  {
   "cell_type": "markdown",
   "id": "f08f9b75",
   "metadata": {},
   "source": [
    "    3. np.random"
   ]
  },
  {
   "cell_type": "code",
   "execution_count": 14,
   "id": "351a143c",
   "metadata": {},
   "outputs": [],
   "source": [
    "M3 = np.random.randn(3,4) #Generates a random matrix of dimension (3,4)"
   ]
  },
  {
   "cell_type": "code",
   "execution_count": 16,
   "id": "b75934af",
   "metadata": {},
   "outputs": [
    {
     "name": "stdout",
     "output_type": "stream",
     "text": [
      "M3 =  [[-1.63637147  0.55883515 -0.7049998   0.6285767 ]\n",
      " [ 0.46119871  0.03205836 -0.80597492  0.65375346]\n",
      " [-0.55514165 -0.14671001  0.12533635  0.1352804 ]]\n"
     ]
    }
   ],
   "source": [
    "print(\"M3 = \", M3)"
   ]
  },
  {
   "cell_type": "markdown",
   "id": "22ae095a",
   "metadata": {},
   "source": [
    "- You can try and explore more such functions"
   ]
  }
 ],
 "metadata": {
  "kernelspec": {
   "display_name": "Python 3 (ipykernel)",
   "language": "python",
   "name": "python3"
  },
  "language_info": {
   "codemirror_mode": {
    "name": "ipython",
    "version": 3
   },
   "file_extension": ".py",
   "mimetype": "text/x-python",
   "name": "python",
   "nbconvert_exporter": "python",
   "pygments_lexer": "ipython3",
   "version": "3.9.12"
  }
 },
 "nbformat": 4,
 "nbformat_minor": 5
}
