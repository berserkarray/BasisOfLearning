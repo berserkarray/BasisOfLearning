{
 "cells": [
  {
   "cell_type": "code",
   "execution_count": 6,
   "id": "5316666e",
   "metadata": {},
   "outputs": [
    {
     "name": "stdout",
     "output_type": "stream",
     "text": [
      "Basics of Jupyter Notebook\n"
     ]
    }
   ],
   "source": [
    "print('Basics of Jupyter Notebook')"
   ]
  },
  {
   "cell_type": "code",
   "execution_count": 2,
   "id": "59aaf1d7",
   "metadata": {},
   "outputs": [
    {
     "name": "stdout",
     "output_type": "stream",
     "text": [
      "Jupyter Notebook is a web based interactive computing platform.\n"
     ]
    }
   ],
   "source": [
    "print('Jupyter Notebook is a web based interactive computing platform.')"
   ]
  },
  {
   "cell_type": "code",
   "execution_count": 7,
   "id": "dac9e6cb",
   "metadata": {},
   "outputs": [
    {
     "name": "stdout",
     "output_type": "stream",
     "text": [
      "It contains both code and rich text elements making it ideal for analysis description.\n"
     ]
    }
   ],
   "source": [
    "print('It contains both code and rich text elements making it ideal for analysis description.')"
   ]
  },
  {
   "cell_type": "code",
   "execution_count": 8,
   "id": "0b0f2a82",
   "metadata": {},
   "outputs": [
    {
     "name": "stdout",
     "output_type": "stream",
     "text": [
      "Its two main components are the kernels and a dashboard.\n"
     ]
    }
   ],
   "source": [
    "print('Its two main components are the kernels and a dashboard.')"
   ]
  },
  {
   "cell_type": "code",
   "execution_count": 9,
   "id": "3bb9b552",
   "metadata": {},
   "outputs": [
    {
     "name": "stdout",
     "output_type": "stream",
     "text": [
      "A kernel is a language specific program that executes the user's code.\n"
     ]
    }
   ],
   "source": [
    "print(\"A kernel is a language specific program that executes the user's code.\")"
   ]
  },
  {
   "cell_type": "code",
   "execution_count": 10,
   "id": "9f9ce7fd",
   "metadata": {},
   "outputs": [
    {
     "name": "stdout",
     "output_type": "stream",
     "text": [
      "The dashboard shows you the notebooks that you have made and manages the kernels.\n"
     ]
    }
   ],
   "source": [
    "print('The dashboard shows you the notebooks that you have made and manages the kernels.') "
   ]
  },
  {
   "cell_type": "code",
   "execution_count": 11,
   "id": "930f68ec",
   "metadata": {},
   "outputs": [
    {
     "name": "stdout",
     "output_type": "stream",
     "text": [
      "You can run Jupyter Notebook with the Anaconda Python Distribution.\n"
     ]
    }
   ],
   "source": [
    "print('You can run Jupyter Notebook with the Anaconda Python Distribution.')"
   ]
  },
  {
   "cell_type": "code",
   "execution_count": 12,
   "id": "0ac7fa5d",
   "metadata": {},
   "outputs": [
    {
     "name": "stdout",
     "output_type": "stream",
     "text": [
      "To get started, run the command - jupyter notebook\n"
     ]
    }
   ],
   "source": [
    "print('To get started, run the command - jupyter notebook')"
   ]
  },
  {
   "cell_type": "code",
   "execution_count": 13,
   "id": "2c2a8beb",
   "metadata": {},
   "outputs": [
    {
     "name": "stdout",
     "output_type": "stream",
     "text": [
      "This opens the application in the web browser on the address localhost:8888\n"
     ]
    }
   ],
   "source": [
    "print('This opens the application in the web browser on the address localhost:8888')"
   ]
  },
  {
   "cell_type": "code",
   "execution_count": 14,
   "id": "d9200861",
   "metadata": {},
   "outputs": [
    {
     "name": "stdout",
     "output_type": "stream",
     "text": [
      "You can now explore Jupyter Notebook and discover all the features. You can make a new notebook by clicking on New in the Files tab\n"
     ]
    }
   ],
   "source": [
    "print('You can now explore Jupyter Notebook and discover all the features. You can make a new notebook by clicking on New in the Files tab')"
   ]
  }
 ],
 "metadata": {
  "kernelspec": {
   "display_name": "Python 3 (ipykernel)",
   "language": "python",
   "name": "python3"
  },
  "language_info": {
   "codemirror_mode": {
    "name": "ipython",
    "version": 3
   },
   "file_extension": ".py",
   "mimetype": "text/x-python",
   "name": "python",
   "nbconvert_exporter": "python",
   "pygments_lexer": "ipython3",
   "version": "3.9.12"
  }
 },
 "nbformat": 4,
 "nbformat_minor": 5
}
